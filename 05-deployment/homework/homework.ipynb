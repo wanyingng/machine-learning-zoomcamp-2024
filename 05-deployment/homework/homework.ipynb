{
 "cells": [
  {
   "cell_type": "markdown",
   "id": "901bbed6-42dd-4059-b665-540557020334",
   "metadata": {},
   "source": [
    "## Homework 5: Deploying Machine Learning Models\n",
    "\n",
    "> Note: sometimes your answer doesn't match one of the options exactly. \n",
    "> That's fine. \n",
    "> Select the option that's closest to your solution.\n",
    "\n",
    "> Note: we recommend using python 3.11 in this homework."
   ]
  },
  {
   "cell_type": "markdown",
   "id": "1f0fe47e-ade0-4c55-b0f7-c393ad75c239",
   "metadata": {},
   "source": [
    "## Question 1\n",
    "\n",
    "* Install Pipenv\n",
    "* What's the version of pipenv you installed?\n",
    "* Use `--version` to find out"
   ]
  },
  {
   "cell_type": "markdown",
   "id": "f55e5e0f-2608-43d7-a25d-1d16f979d0a7",
   "metadata": {},
   "source": [
    "Install Pipenv:\n",
    "```bash\n",
    "pip install pipenv\n",
    "```"
   ]
  },
  {
   "cell_type": "code",
   "execution_count": 1,
   "id": "5588ddd1-6c4e-4ff6-a0e2-f26c27a4b672",
   "metadata": {},
   "outputs": [
    {
     "name": "stdout",
     "output_type": "stream",
     "text": [
      "pipenv, version 2024.3.1\n"
     ]
    }
   ],
   "source": [
    "!pipenv --version"
   ]
  },
  {
   "cell_type": "markdown",
   "id": "c4b265b0-02ef-4d57-92e0-12831843749d",
   "metadata": {},
   "source": [
    "**Ans:** The version of pipenv installed is version `2024.3.1`."
   ]
  },
  {
   "cell_type": "markdown",
   "id": "38a50c97-f408-40a9-8d84-002778e6baad",
   "metadata": {},
   "source": [
    "## Question 2\n",
    "\n",
    "* Use Pipenv to install Scikit-Learn version 1.5.2\n",
    "* What's the first hash for scikit-learn you get in Pipfile.lock?\n",
    "\n",
    "> **Note**: you should create an empty folder for homework\n",
    "and do it there. "
   ]
  },
  {
   "cell_type": "markdown",
   "id": "2898aacc-3447-4070-b4c4-3295de40dc8c",
   "metadata": {},
   "source": [
    "Use Pipenv to install Scikit-Learn version 1.5.2:\n",
    "```bash\n",
    "pipenv install scikit-learn==1.5.2\n",
    "```"
   ]
  },
  {
   "cell_type": "markdown",
   "id": "7d96c088-7c99-4562-95a8-b83b84363596",
   "metadata": {},
   "source": [
    "**Pipfile:**\n",
    "```text\n",
    "[[source]]\n",
    "url = \"https://pypi.org/simple\"\n",
    "verify_ssl = true\n",
    "name = \"pypi\"\n",
    "\n",
    "[packages]\n",
    "scikit-learn = \"==1.5.2\"\n",
    "\n",
    "[dev-packages]\n",
    "\n",
    "[requires]\n",
    "python_version = \"3.11\"\n",
    "```"
   ]
  },
  {
   "cell_type": "markdown",
   "id": "0e42cc9f-c14f-4a13-8fd3-c08e75903d43",
   "metadata": {},
   "source": [
    "**Pipfile.lock:**\n",
    "```\n",
    "{\n",
    "    \"_meta\": {\n",
    "        \"hash\": {\n",
    "            \"sha256\": \"da9944f49a102baddf89fee85c44b4cf5c70ad335a979024b4cc6bb511344639\"\n",
    "        },\n",
    "        \"pipfile-spec\": 6,\n",
    "        \"requires\": {\n",
    "            \"python_version\": \"3.11\"\n",
    "        },\n",
    "        \"sources\": [\n",
    "            {\n",
    "                \"name\": \"pypi\",\n",
    "                \"url\": \"https://pypi.org/simple\",\n",
    "                \"verify_ssl\": true\n",
    "            }\n",
    "        ]\n",
    "    },\n",
    "    \"default\": {\n",
    "        \"joblib\": {\n",
    "            \"hashes\": [\n",
    "                \"sha256:06d478d5674cbc267e7496a410ee875abd68e4340feff4490bcb7afb88060ae6\",\n",
    "                \"sha256:2382c5816b2636fbd20a09e0f4e9dad4736765fdfb7dca582943b9c1366b3f0e\"\n",
    "            ],\n",
    "            \"markers\": \"python_version >= '3.8'\",\n",
    "            \"version\": \"==1.4.2\"\n",
    "        },\n",
    "        \"numpy\": {\n",
    "            \"hashes\": [\n",
    "                \"sha256:05b2d4e667895cc55e3ff2b56077e4c8a5604361fc21a042845ea3ad67465aa8\",\n",
    "                \"sha256:12edb90831ff481f7ef5f6bc6431a9d74dc0e5ff401559a71e5e4611d4f2d466\",\n",
    "                \"sha256:13311c2db4c5f7609b462bc0f43d3c465424d25c626d95040f073e30f7570e35\",\n",
    "                \"sha256:13532a088217fa624c99b843eeb54640de23b3414b14aa66d023805eb731066c\",\n",
    "                \"sha256:13602b3174432a35b16c4cfb5de9a12d229727c3dd47a6ce35111f2ebdf66ff4\",\n",
    "                \"sha256:1600068c262af1ca9580a527d43dc9d959b0b1d8e56f8a05d830eea39b7c8af6\",\n",
    "                \"sha256:1b8cde4f11f0a975d1fd59373b32e2f5a562ade7cde4f85b7137f3de8fbb29a0\",\n",
    "                \"sha256:1c193d0b0238638e6fc5f10f1b074a6993cb13b0b431f64079a509d63d3aa8b7\",\n",
    "                \"sha256:1ebec5fd716c5a5b3d8dfcc439be82a8407b7b24b230d0ad28a81b61c2f4659a\",\n",
    "                \"sha256:242b39d00e4944431a3cd2db2f5377e15b5785920421993770cddb89992c3f3a\",\n",
    "                \"sha256:259ec80d54999cc34cd1eb8ded513cb053c3bf4829152a2e00de2371bd406f5e\",\n",
    "                \"sha256:2abbf905a0b568706391ec6fa15161fad0fb5d8b68d73c461b3c1bab6064dd62\",\n",
    "                \"sha256:2cbba4b30bf31ddbe97f1c7205ef976909a93a66bb1583e983adbd155ba72ac2\",\n",
    "                \"sha256:2ffef621c14ebb0188a8633348504a35c13680d6da93ab5cb86f4e54b7e922b5\",\n",
    "                \"sha256:30d53720b726ec36a7f88dc873f0eec8447fbc93d93a8f079dfac2629598d6ee\",\n",
    "                \"sha256:32e16a03138cabe0cb28e1007ee82264296ac0983714094380b408097a418cfe\",\n",
    "                \"sha256:43cca367bf94a14aca50b89e9bc2061683116cfe864e56740e083392f533ce7a\",\n",
    "                \"sha256:456e3b11cb79ac9946c822a56346ec80275eaf2950314b249b512896c0d2505e\",\n",
    "                \"sha256:4d6ec0d4222e8ffdab1744da2560f07856421b367928026fb540e1945f2eeeaf\",\n",
    "                \"sha256:5006b13a06e0b38d561fab5ccc37581f23c9511879be7693bd33c7cd15ca227c\",\n",
    "                \"sha256:675c741d4739af2dc20cd6c6a5c4b7355c728167845e3c6b0e824e4e5d36a6c3\",\n",
    "                \"sha256:6cdb606a7478f9ad91c6283e238544451e3a95f30fb5467fbf715964341a8a86\",\n",
    "                \"sha256:6d95f286b8244b3649b477ac066c6906fbb2905f8ac19b170e2175d3d799f4df\",\n",
    "                \"sha256:76322dcdb16fccf2ac56f99048af32259dcc488d9b7e25b51e5eca5147a3fb98\",\n",
    "                \"sha256:7c1c60328bd964b53f8b835df69ae8198659e2b9302ff9ebb7de4e5a5994db3d\",\n",
    "                \"sha256:860ec6e63e2c5c2ee5e9121808145c7bf86c96cca9ad396c0bd3e0f2798ccbe2\",\n",
    "                \"sha256:8e00ea6fc82e8a804433d3e9cedaa1051a1422cb6e443011590c14d2dea59146\",\n",
    "                \"sha256:9c6c754df29ce6a89ed23afb25550d1c2d5fdb9901d9c67a16e0b16eaf7e2550\",\n",
    "                \"sha256:a26ae94658d3ba3781d5e103ac07a876b3e9b29db53f68ed7df432fd033358a8\",\n",
    "                \"sha256:a65acfdb9c6ebb8368490dbafe83c03c7e277b37e6857f0caeadbbc56e12f4fb\",\n",
    "                \"sha256:a7d80b2e904faa63068ead63107189164ca443b42dd1930299e0d1cb041cec2e\",\n",
    "                \"sha256:a84498e0d0a1174f2b3ed769b67b656aa5460c92c9554039e11f20a05650f00d\",\n",
    "                \"sha256:ab4754d432e3ac42d33a269c8567413bdb541689b02d93788af4131018cbf366\",\n",
    "                \"sha256:ad369ed238b1959dfbade9018a740fb9392c5ac4f9b5173f420bd4f37ba1f7a0\",\n",
    "                \"sha256:b1d0fcae4f0949f215d4632be684a539859b295e2d0cb14f78ec231915d644db\",\n",
    "                \"sha256:b42a1a511c81cc78cbc4539675713bbcf9d9c3913386243ceff0e9429ca892fe\",\n",
    "                \"sha256:bd33f82e95ba7ad632bc57837ee99dba3d7e006536200c4e9124089e1bf42426\",\n",
    "                \"sha256:bdd407c40483463898b84490770199d5714dcc9dd9b792f6c6caccc523c00952\",\n",
    "                \"sha256:c6eef7a2dbd0abfb0d9eaf78b73017dbfd0b54051102ff4e6a7b2980d5ac1a03\",\n",
    "                \"sha256:c82af4b2ddd2ee72d1fc0c6695048d457e00b3582ccde72d8a1c991b808bb20f\",\n",
    "                \"sha256:d666cb72687559689e9906197e3bec7b736764df6a2e58ee265e360663e9baf7\",\n",
    "                \"sha256:d7bf0a4f9f15b32b5ba53147369e94296f5fffb783db5aacc1be15b4bf72f43b\",\n",
    "                \"sha256:d82075752f40c0ddf57e6e02673a17f6cb0f8eb3f587f63ca1eaab5594da5b17\",\n",
    "                \"sha256:da65fb46d4cbb75cb417cddf6ba5e7582eb7bb0b47db4b99c9fe5787ce5d91f5\",\n",
    "                \"sha256:e2b49c3c0804e8ecb05d59af8386ec2f74877f7ca8fd9c1e00be2672e4d399b1\",\n",
    "                \"sha256:e585c8ae871fd38ac50598f4763d73ec5497b0de9a0ab4ef5b69f01c6a046142\",\n",
    "                \"sha256:e8d3ca0a72dd8846eb6f7dfe8f19088060fcb76931ed592d29128e0219652884\",\n",
    "                \"sha256:ef444c57d664d35cac4e18c298c47d7b504c66b17c2ea91312e979fcfbdfb08a\",\n",
    "                \"sha256:f1eb068ead09f4994dec71c24b2844f1e4e4e013b9629f812f292f04bd1510d9\",\n",
    "                \"sha256:f2ded8d9b6f68cc26f8425eda5d3877b47343e68ca23d0d0846f4d312ecaa445\",\n",
    "                \"sha256:f751ed0a2f250541e19dfca9f1eafa31a392c71c832b6bb9e113b10d050cb0f1\",\n",
    "                \"sha256:faa88bc527d0f097abdc2c663cddf37c05a1c2f113716601555249805cf573f1\",\n",
    "                \"sha256:fc44e3c68ff00fd991b59092a54350e6e4911152682b4782f68070985aa9e648\"\n",
    "            ],\n",
    "            \"markers\": \"python_version >= '3.10'\",\n",
    "            \"version\": \"==2.1.2\"\n",
    "        },\n",
    "        \"scikit-learn\": {\n",
    "            \"hashes\": [\n",
    "                \"sha256:03b6158efa3faaf1feea3faa884c840ebd61b6484167c711548fce208ea09445\",\n",
    "                \"sha256:178ddd0a5cb0044464fc1bfc4cca5b1833bfc7bb022d70b05db8530da4bb3dd3\",\n",
    "                \"sha256:1ff45e26928d3b4eb767a8f14a9a6efbf1cbff7c05d1fb0f95f211a89fd4f5de\",\n",
    "                \"sha256:299406827fb9a4f862626d0fe6c122f5f87f8910b86fe5daa4c32dcd742139b6\",\n",
    "                \"sha256:2d4cad1119c77930b235579ad0dc25e65c917e756fe80cab96aa3b9428bd3fb0\",\n",
    "                \"sha256:394397841449853c2290a32050382edaec3da89e35b3e03d6cc966aebc6a8ae6\",\n",
    "                \"sha256:3a686885a4b3818d9e62904d91b57fa757fc2bed3e465c8b177be652f4dd37c8\",\n",
    "                \"sha256:3b923d119d65b7bd555c73be5423bf06c0105678ce7e1f558cb4b40b0a5502b1\",\n",
    "                \"sha256:3bed4909ba187aca80580fe2ef370d9180dcf18e621a27c4cf2ef10d279a7efe\",\n",
    "                \"sha256:52788f48b5d8bca5c0736c175fa6bdaab2ef00a8f536cda698db61bd89c551c1\",\n",
    "                \"sha256:57cc1786cfd6bd118220a92ede80270132aa353647684efa385a74244a41e3b1\",\n",
    "                \"sha256:643964678f4b5fbdc95cbf8aec638acc7aa70f5f79ee2cdad1eec3df4ba6ead8\",\n",
    "                \"sha256:6c16d84a0d45e4894832b3c4d0bf73050939e21b99b01b6fd59cbb0cf39163b6\",\n",
    "                \"sha256:757c7d514ddb00ae249832fe87100d9c73c6ea91423802872d9e74970a0e40b9\",\n",
    "                \"sha256:8c412ccc2ad9bf3755915e3908e677b367ebc8d010acbb3f182814524f2e5540\",\n",
    "                \"sha256:b0768ad641981f5d3a198430a1d31c3e044ed2e8a6f22166b4d546a5116d7908\",\n",
    "                \"sha256:b4237ed7b3fdd0a4882792e68ef2545d5baa50aca3bb45aa7df468138ad8f94d\",\n",
    "                \"sha256:b7b0f9a0b1040830d38c39b91b3a44e1b643f4b36e36567b80b7c6bd2202a27f\",\n",
    "                \"sha256:c15b1ca23d7c5f33cc2cb0a0d6aaacf893792271cddff0edbd6a40e8319bc113\",\n",
    "                \"sha256:ca64b3089a6d9b9363cd3546f8978229dcbb737aceb2c12144ee3f70f95684b7\",\n",
    "                \"sha256:e9a702e2de732bbb20d3bad29ebd77fc05a6b427dc49964300340e4c9328b3f5\",\n",
    "                \"sha256:f60021ec1574e56632be2a36b946f8143bf4e5e6af4a06d85281adc22938e0dd\",\n",
    "                \"sha256:f7284ade780084d94505632241bf78c44ab3b6f1e8ccab3d2af58e0e950f9c12\",\n",
    "                \"sha256:f763897fe92d0e903aa4847b0aec0e68cadfff77e8a0687cabd946c89d17e675\",\n",
    "                \"sha256:f8b0ccd4a902836493e026c03256e8b206656f91fbcc4fde28c57a5b752561f1\",\n",
    "                \"sha256:f932a02c3f4956dfb981391ab24bda1dbd90fe3d628e4b42caef3e041c67707a\"\n",
    "            ],\n",
    "            \"index\": \"pypi\",\n",
    "            \"markers\": \"python_version >= '3.9'\",\n",
    "            \"version\": \"==1.5.2\"\n",
    "        },\n",
    "        \"scipy\": {\n",
    "            \"hashes\": [\n",
    "                \"sha256:0c2f95de3b04e26f5f3ad5bb05e74ba7f68b837133a4492414b3afd79dfe540e\",\n",
    "                \"sha256:1729560c906963fc8389f6aac023739ff3983e727b1a4d87696b7bf108316a79\",\n",
    "                \"sha256:278266012eb69f4a720827bdd2dc54b2271c97d84255b2faaa8f161a158c3b37\",\n",
    "                \"sha256:2843f2d527d9eebec9a43e6b406fb7266f3af25a751aa91d62ff416f54170bc5\",\n",
    "                \"sha256:2da0469a4ef0ecd3693761acbdc20f2fdeafb69e6819cc081308cc978153c675\",\n",
    "                \"sha256:2ff0a7e01e422c15739ecd64432743cf7aae2b03f3084288f399affcefe5222d\",\n",
    "                \"sha256:2ff38e22128e6c03ff73b6bb0f85f897d2362f8c052e3b8ad00532198fbdae3f\",\n",
    "                \"sha256:30ac8812c1d2aab7131a79ba62933a2a76f582d5dbbc695192453dae67ad6310\",\n",
    "                \"sha256:3a1b111fac6baec1c1d92f27e76511c9e7218f1695d61b59e05e0fe04dc59617\",\n",
    "                \"sha256:4079b90df244709e675cdc8b93bfd8a395d59af40b72e339c2287c91860deb8e\",\n",
    "                \"sha256:5149e3fd2d686e42144a093b206aef01932a0059c2a33ddfa67f5f035bdfe13e\",\n",
    "                \"sha256:5a275584e726026a5699459aa72f828a610821006228e841b94275c4a7c08417\",\n",
    "                \"sha256:631f07b3734d34aced009aaf6fedfd0eb3498a97e581c3b1e5f14a04164a456d\",\n",
    "                \"sha256:716e389b694c4bb564b4fc0c51bc84d381735e0d39d3f26ec1af2556ec6aad94\",\n",
    "                \"sha256:8426251ad1e4ad903a4514712d2fa8fdd5382c978010d1c6f5f37ef286a713ad\",\n",
    "                \"sha256:8475230e55549ab3f207bff11ebfc91c805dc3463ef62eda3ccf593254524ce8\",\n",
    "                \"sha256:8bddf15838ba768bb5f5083c1ea012d64c9a444e16192762bd858f1e126196d0\",\n",
    "                \"sha256:8e32dced201274bf96899e6491d9ba3e9a5f6b336708656466ad0522d8528f69\",\n",
    "                \"sha256:8f9ea80f2e65bdaa0b7627fb00cbeb2daf163caa015e59b7516395fe3bd1e066\",\n",
    "                \"sha256:97c5dddd5932bd2a1a31c927ba5e1463a53b87ca96b5c9bdf5dfd6096e27efc3\",\n",
    "                \"sha256:a49f6ed96f83966f576b33a44257d869756df6cf1ef4934f59dd58b25e0327e5\",\n",
    "                \"sha256:af29a935803cc707ab2ed7791c44288a682f9c8107bc00f0eccc4f92c08d6e07\",\n",
    "                \"sha256:b05d43735bb2f07d689f56f7b474788a13ed8adc484a85aa65c0fd931cf9ccd2\",\n",
    "                \"sha256:b28d2ca4add7ac16ae8bb6632a3c86e4b9e4d52d3e34267f6e1b0c1f8d87e389\",\n",
    "                \"sha256:b99722ea48b7ea25e8e015e8341ae74624f72e5f21fc2abd45f3a93266de4c5d\",\n",
    "                \"sha256:baff393942b550823bfce952bb62270ee17504d02a1801d7fd0719534dfb9c84\",\n",
    "                \"sha256:c0ee987efa6737242745f347835da2cc5bb9f1b42996a4d97d5c7ff7928cb6f2\",\n",
    "                \"sha256:d0d2821003174de06b69e58cef2316a6622b60ee613121199cb2852a873f8cf3\",\n",
    "                \"sha256:e0cf28db0f24a38b2a0ca33a85a54852586e43cf6fd876365c86e0657cfe7d73\",\n",
    "                \"sha256:e4f5a7c49323533f9103d4dacf4e4f07078f360743dec7f7596949149efeec06\",\n",
    "                \"sha256:eb58ca0abd96911932f688528977858681a59d61a7ce908ffd355957f7025cfc\",\n",
    "                \"sha256:edaf02b82cd7639db00dbff629995ef185c8df4c3ffa71a5562a595765a06ce1\",\n",
    "                \"sha256:fef8c87f8abfb884dac04e97824b61299880c43f4ce675dd2cbeadd3c9b466d2\"\n",
    "            ],\n",
    "            \"markers\": \"python_version >= '3.10'\",\n",
    "            \"version\": \"==1.14.1\"\n",
    "        },\n",
    "        \"threadpoolctl\": {\n",
    "            \"hashes\": [\n",
    "                \"sha256:082433502dd922bf738de0d8bcc4fdcbf0979ff44c42bd40f5af8a282f6fa107\",\n",
    "                \"sha256:56c1e26c150397e58c4926da8eeee87533b1e32bef131bd4bf6a2f45f3185467\"\n",
    "            ],\n",
    "            \"markers\": \"python_version >= '3.8'\",\n",
    "            \"version\": \"==3.5.0\"\n",
    "        }\n",
    "    },\n",
    "    \"develop\": {}\n",
    "}\n",
    "```"
   ]
  },
  {
   "cell_type": "markdown",
   "id": "8831d649-b045-400a-8d09-c4e23bf0e0f4",
   "metadata": {},
   "source": [
    "**Ans:** The first hash for scikit-learn in Pipfile.lock is `sha256:03b6158efa3faaf1feea3faa884c840ebd61b6484167c711548fce208ea09445`."
   ]
  },
  {
   "cell_type": "markdown",
   "id": "1f223d9e-ce7f-43c6-bdc8-7b2e95d7308f",
   "metadata": {},
   "source": [
    "## Models\n",
    "\n",
    "We've prepared a dictionary vectorizer and a model.\n",
    "\n",
    "They were trained (roughly) using this code:\n",
    "\n",
    "```python\n",
    "features = ['job', 'duration', 'poutcome']\n",
    "dicts = df[features].to_dict(orient='records')\n",
    "\n",
    "dv = DictVectorizer(sparse=False)\n",
    "X = dv.fit_transform(dicts)\n",
    "\n",
    "model = LogisticRegression().fit(X, y)\n",
    "```\n",
    "\n",
    "> **Note**: You don't need to train the model. This code is just for your reference.\n",
    "\n",
    "And then saved with Pickle. Download them:\n",
    "\n",
    "* [DictVectorizer](https://github.com/DataTalksClub/machine-learning-zoomcamp/tree/master/cohorts/2024/05-deployment/homework/dv.bin?raw=true)\n",
    "* [LogisticRegression](https://github.com/DataTalksClub/machine-learning-zoomcamp/tree/master/cohorts/2024/05-deployment/homework/model1.bin?raw=true)\n",
    "\n",
    "With `wget`:\n",
    "\n",
    "```bash\n",
    "PREFIX=https://raw.githubusercontent.com/DataTalksClub/machine-learning-zoomcamp/master/cohorts/2024/05-deployment/homework\n",
    "wget $PREFIX/model1.bin\n",
    "wget $PREFIX/dv.bin\n",
    "```"
   ]
  },
  {
   "cell_type": "markdown",
   "id": "d148c41f-0e2b-4813-93cb-2a1d4b7547eb",
   "metadata": {},
   "source": [
    "## Question 3\n",
    "\n",
    "Let's use these models!\n",
    "\n",
    "* Write a script for loading these models with pickle\n",
    "* Score this client:\n",
    "\n",
    "```json\n",
    "{\"job\": \"management\", \"duration\": 400, \"poutcome\": \"success\"}\n",
    "```\n",
    "\n",
    "What's the probability that this client will get a subscription? \n",
    "\n",
    "* 0.359\n",
    "* 0.559\n",
    "* 0.759\n",
    "* 0.959\n",
    "\n",
    "If you're getting errors when unpickling the files, check their checksum:\n",
    "\n",
    "```bash\n",
    "$ md5sum model1.bin dv.bin\n",
    "3d8bb28974e55edefa000fe38fd3ed12  model1.bin\n",
    "7d37616e00aa80f2152b8b0511fc2dff  dv.bin\n",
    "```"
   ]
  },
  {
   "cell_type": "code",
   "execution_count": 2,
   "id": "ff402676-bc22-4a11-b6ab-65df8a0dbf58",
   "metadata": {},
   "outputs": [
    {
     "name": "stdout",
     "output_type": "stream",
     "text": [
      "'model1.bin' MD5 checksum: 3d8bb28974e55edefa000fe38fd3ed12\n",
      "'dv.bin' MD5 checksum: 7d37616e00aa80f2152b8b0511fc2dff\n"
     ]
    }
   ],
   "source": [
    "import hashlib\n",
    "\n",
    "def get_md5(file_path):\n",
    "    md5_hash = hashlib.md5()\n",
    "    with open(file_path, \"rb\") as f:\n",
    "        for chunk in iter(lambda: f.read(4096), b\"\"):\n",
    "            md5_hash.update(chunk)\n",
    "    return md5_hash.hexdigest()\n",
    "\n",
    "model_chksum = get_md5('model1.bin')\n",
    "dv_chksum = get_md5('dv.bin')\n",
    "\n",
    "print(f\"'model1.bin' MD5 checksum: {model_chksum}\")\n",
    "print(f\"'dv.bin' MD5 checksum: {dv_chksum}\")"
   ]
  },
  {
   "cell_type": "code",
   "execution_count": 3,
   "id": "f168c4f2-c4d9-4ea2-ac85-b560226990c2",
   "metadata": {},
   "outputs": [],
   "source": [
    "import pickle\n",
    "\n",
    "\n",
    "with open('dv.bin', 'rb') as dv_file:\n",
    "    dv = pickle.load(dv_file)\n",
    "\n",
    "with open('model1.bin', 'rb') as model_file:\n",
    "    model = pickle.load(model_file)\n",
    "\n",
    "client = {\"job\": \"management\", \"duration\": 400, \"poutcome\": \"success\"}\n",
    "\n",
    "X = dv.transform([client])\n",
    "\n",
    "# Score this client\n",
    "prob = model.predict_proba(X)[0, 1]"
   ]
  },
  {
   "cell_type": "code",
   "execution_count": 4,
   "id": "6247cef4-0c06-4b83-bc2f-1b220d98d57d",
   "metadata": {},
   "outputs": [
    {
     "data": {
      "text/plain": [
       "np.float64(0.759)"
      ]
     },
     "execution_count": 4,
     "metadata": {},
     "output_type": "execute_result"
    }
   ],
   "source": [
    "round(prob, 3)"
   ]
  },
  {
   "cell_type": "markdown",
   "id": "0823c0ce-455d-4fba-80af-f7d9e1a5e1d5",
   "metadata": {},
   "source": [
    "**Ans:** This client has a probability of `0.759` in getting a subscription. "
   ]
  },
  {
   "cell_type": "markdown",
   "id": "3017c85d-6646-45d1-b24e-bc4c0cecc033",
   "metadata": {},
   "source": [
    "## Question 4\n",
    "\n",
    "Now let's serve this model as a web service\n",
    "\n",
    "* Install Flask and gunicorn (or waitress, if you're on Windows)\n",
    "* Write Flask code for serving the model\n",
    "* Now score this client using `requests`:\n",
    "\n",
    "```python\n",
    "url = \"YOUR_URL\"\n",
    "client = {\"job\": \"student\", \"duration\": 280, \"poutcome\": \"failure\"}\n",
    "requests.post(url, json=client).json()\n",
    "```\n",
    "\n",
    "What's the probability that this client will get a subscription?\n",
    "\n",
    "* 0.335\n",
    "* 0.535\n",
    "* 0.735\n",
    "* 0.935"
   ]
  },
  {
   "cell_type": "markdown",
   "id": "f66598ad-a6dc-499c-8ad6-77d757a529b4",
   "metadata": {},
   "source": [
    "Serve the model using Gunicorn:\n",
    "```bash\n",
    "pipenv run gunicorn --bind 0.0.0.0:9696 predict:app\n",
    "```\n",
    "\n",
    "Or alternatively, serve the model using Waitress:\n",
    "```bash\n",
    "pipenv run waitress-serve --listen=0.0.0.0:9696 predict:app\n",
    "```"
   ]
  },
  {
   "cell_type": "code",
   "execution_count": 5,
   "id": "0a9426cd-a50e-427e-b89a-0f17cc0d5842",
   "metadata": {},
   "outputs": [
    {
     "name": "stdout",
     "output_type": "stream",
     "text": [
      "{'subscribe': False, 'subscribe_probability': 0.33480703475511053}\n"
     ]
    }
   ],
   "source": [
    "# Score this client using requests\n",
    "import requests\n",
    "\n",
    "\n",
    "url = 'http://localhost:9696/predict'\n",
    "\n",
    "client = {\"job\": \"student\", \"duration\": 280, \"poutcome\": \"failure\"}\n",
    "\n",
    "response = requests.post(url, json=client).json()\n",
    "print(response)"
   ]
  },
  {
   "cell_type": "code",
   "execution_count": 6,
   "id": "178daa31-befa-46bf-b6f4-20407dfd40d8",
   "metadata": {},
   "outputs": [
    {
     "name": "stdout",
     "output_type": "stream",
     "text": [
      "This client won't get a subscription.\n"
     ]
    }
   ],
   "source": [
    "if response['subscribe']:\n",
    "    print(\"This client will get a subscription.\")\n",
    "else:\n",
    "    print(\"This client won't get a subscription.\")"
   ]
  },
  {
   "cell_type": "code",
   "execution_count": 7,
   "id": "1218a170-3fa7-45f5-9aa3-97c230652341",
   "metadata": {},
   "outputs": [
    {
     "data": {
      "text/plain": [
       "0.335"
      ]
     },
     "execution_count": 7,
     "metadata": {},
     "output_type": "execute_result"
    }
   ],
   "source": [
    "round(response['subscribe_probability'], 3)"
   ]
  },
  {
   "cell_type": "markdown",
   "id": "77295462-3c89-432a-9c08-abff18fdacc0",
   "metadata": {},
   "source": [
    "**Ans:** The probability of this client getting a subscription is `0.335`. "
   ]
  },
  {
   "cell_type": "markdown",
   "id": "36d37460-fd11-46e3-a9e7-92d9018c6978",
   "metadata": {},
   "source": [
    "## Docker\n",
    "\n",
    "Install [Docker](https://github.com/DataTalksClub/machine-learning-zoomcamp/blob/master/05-deployment/06-docker.md). \n",
    "We will use it for the next two questions.\n",
    "\n",
    "For these questions, we prepared a base image: `svizor/zoomcamp-model:3.11.5-slim`. \n",
    "You'll need to use it (see Question 5 for an example).\n",
    "\n",
    "This image is based on `python:3.11.5-slim` and has a logistic regression model \n",
    "(a different one) as well as a dictionary vectorizer inside. \n",
    "\n",
    "This is how the Dockerfile for this image looks like:\n",
    "\n",
    "```docker \n",
    "FROM python:3.11.5-slim\n",
    "WORKDIR /app\n",
    "COPY [\"model2.bin\", \"dv.bin\", \"./\"]\n",
    "```\n",
    "\n",
    "We already built it and then pushed it to [`svizor/zoomcamp-model:3.11.5-slim`](https://hub.docker.com/r/svizor/zoomcamp-model).\n",
    "\n",
    "> **Note**: You don't need to build this docker image, it's just for your reference.\n"
   ]
  },
  {
   "cell_type": "code",
   "execution_count": 8,
   "id": "1bbbd0a4-ced7-42b6-b816-a5874ee6a857",
   "metadata": {},
   "outputs": [
    {
     "name": "stdout",
     "output_type": "stream",
     "text": [
      "Docker version 27.2.0, build 3ab4256\n"
     ]
    }
   ],
   "source": [
    "!docker --version"
   ]
  },
  {
   "cell_type": "markdown",
   "id": "e2d19d2e-ed0f-4094-811e-985ebd4213d4",
   "metadata": {},
   "source": [
    "## Question 5\n",
    "\n",
    "Download the base image `svizor/zoomcamp-model:3.11.5-slim`. You can easily make it by using [docker pull](https://docs.docker.com/engine/reference/commandline/pull/) command.\n",
    "\n",
    "So what's the size of this base image?\n",
    "\n",
    "* 45 MB\n",
    "* 130 MB\n",
    "* 245 MB\n",
    "* 330 MB\n",
    "\n",
    "You can get this information when running `docker images` - it'll be in the \"SIZE\" column.\n"
   ]
  },
  {
   "cell_type": "code",
   "execution_count": 9,
   "id": "f0aeda8c-2916-4a69-8d9d-1433828af44d",
   "metadata": {},
   "outputs": [
    {
     "name": "stdout",
     "output_type": "stream",
     "text": [
      "3.11.5-slim: Pulling from svizor/zoomcamp-model\n",
      "Digest: sha256:15d61790363f892dfdef55f47b78feed751cb59704d47ea911df0ef3e9300c06\n",
      "Status: Image is up to date for svizor/zoomcamp-model:3.11.5-slim\n",
      "docker.io/svizor/zoomcamp-model:3.11.5-slim\n"
     ]
    }
   ],
   "source": [
    "!docker pull svizor/zoomcamp-model:3.11.5-slim"
   ]
  },
  {
   "cell_type": "code",
   "execution_count": 10,
   "id": "d0192a55-bfa4-4e73-8029-39d6533e5349",
   "metadata": {},
   "outputs": [
    {
     "name": "stdout",
     "output_type": "stream",
     "text": [
      "REPOSITORY              TAG            IMAGE ID       CREATED          SIZE\n",
      "subscription-service    latest         017c0a8cd2a6   13 minutes ago   465MB\n",
      "zoomcamp-test           latest         1e281fb7f1f3   6 hours ago      546MB\n",
      "python                  3.11.10-slim   39ca810b5b5b   12 days ago      130MB\n",
      "svizor/zoomcamp-model   3.11.5-slim    975e7bdca086   12 days ago      130MB\n"
     ]
    }
   ],
   "source": [
    "!docker images"
   ]
  },
  {
   "cell_type": "markdown",
   "id": "614f31de-b134-4819-b4aa-e66e410183e6",
   "metadata": {},
   "source": [
    "**Ans:** The size of this base image <svizor/zoomcamp-model> is `130 MB`."
   ]
  },
  {
   "cell_type": "markdown",
   "id": "edbb7784-0a36-4ef7-8a9c-251a3abd60cc",
   "metadata": {},
   "source": [
    "## Dockerfile\n",
    "\n",
    "Now create your own Dockerfile based on the image we prepared.\n",
    "\n",
    "It should start like that:\n",
    "\n",
    "```docker\n",
    "FROM svizor/zoomcamp-model:3.11.5-slim\n",
    "# add your stuff here\n",
    "```\n",
    "\n",
    "Now complete it:\n",
    "\n",
    "* Install all the dependencies from the Pipenv file\n",
    "* Copy your Flask script\n",
    "* Run it with Gunicorn \n",
    "\n",
    "After that, you can build your docker image."
   ]
  },
  {
   "cell_type": "markdown",
   "id": "7a2aac49-c3bf-4afd-9cd4-008f12b83428",
   "metadata": {},
   "source": [
    "**Dockerfile**\n",
    "```dockerfile\n",
    "FROM svizor/zoomcamp-model:3.11.5-slim\n",
    "\n",
    "ENV PYTHONUNBUFFERED=TRUE\n",
    "\n",
    "RUN pip --no-cache-dir install pipenv\n",
    "\n",
    "WORKDIR /app\n",
    "COPY [\"Pipfile\", \"Pipfile.lock\", \"./\"]\n",
    "\n",
    "RUN pipenv install --system --deploy && \\\n",
    "    rm -rf /root/.cache\n",
    "\n",
    "COPY [\"predict.py\", \"dv.bin\", \"model1.bin\", \"./\"]\n",
    "\n",
    "EXPOSE 9696\n",
    "\n",
    "ENTRYPOINT [\"gunicorn\", \"--bind=0.0.0.0:9696\", \"predict:app\"]\n",
    "```"
   ]
  },
  {
   "cell_type": "code",
   "execution_count": 11,
   "id": "f5e06e56-60b8-464a-9c69-3a16bb4ae8b5",
   "metadata": {},
   "outputs": [
    {
     "name": "stderr",
     "output_type": "stream",
     "text": [
      "#0 building with \"desktop-linux\" instance using docker driver\n",
      "\n",
      "#1 [internal] load build definition from Dockerfile\n",
      "#1 transferring dockerfile: 408B done\n",
      "#1 DONE 0.0s\n",
      "\n",
      "#2 [internal] load metadata for docker.io/svizor/zoomcamp-model:3.11.5-slim\n",
      "#2 DONE 0.0s\n",
      "\n",
      "#3 [internal] load .dockerignore\n",
      "#3 transferring context: 2B done\n",
      "#3 DONE 0.0s\n",
      "\n",
      "#4 [1/6] FROM docker.io/svizor/zoomcamp-model:3.11.5-slim\n",
      "#4 DONE 0.0s\n",
      "\n",
      "#5 [internal] load build context\n",
      "#5 transferring context: 148B done\n",
      "#5 DONE 0.0s\n",
      "\n",
      "#6 [2/6] RUN pip --no-cache-dir install pipenv\n",
      "#6 CACHED\n",
      "\n",
      "#7 [3/6] WORKDIR /app\n",
      "#7 CACHED\n",
      "\n",
      "#8 [5/6] RUN pipenv install --system --deploy &&     rm -rf /root/.cache\n",
      "#8 CACHED\n",
      "\n",
      "#9 [4/6] COPY [Pipfile, Pipfile.lock, ./]\n",
      "#9 CACHED\n",
      "\n",
      "#10 [6/6] COPY [predict.py, dv.bin, model1.bin, ./]\n",
      "#10 CACHED\n",
      "\n",
      "#11 exporting to image\n",
      "#11 exporting layers done\n",
      "#11 writing image sha256:017c0a8cd2a6f6be7ef9641e975994baa941b2747eceab350c25463fda4002d8 done\n",
      "#11 naming to docker.io/library/subscription-service done\n",
      "#11 DONE 0.0s\n",
      "\n",
      "View build details: docker-desktop://dashboard/build/desktop-linux/desktop-linux/8o4iwalqpt67puecutkwd6plo\n"
     ]
    }
   ],
   "source": [
    "!docker build -t subscription-service ."
   ]
  },
  {
   "cell_type": "markdown",
   "id": "da590575-346f-476f-92ea-49c95d65867a",
   "metadata": {},
   "source": [
    "## Question 6\n",
    "\n",
    "Let's run your docker container!\n",
    "\n",
    "After running it, score this client once again:\n",
    "\n",
    "```python\n",
    "url = \"YOUR_URL\"\n",
    "client = {\"job\": \"management\", \"duration\": 400, \"poutcome\": \"success\"}\n",
    "requests.post(url, json=client).json()\n",
    "```\n",
    "\n",
    "What's the probability that this client will get a subscription now?\n",
    "\n",
    "* 0.287\n",
    "* 0.530\n",
    "* 0.757\n",
    "* 0.960"
   ]
  },
  {
   "cell_type": "markdown",
   "id": "f8a9f702-65b9-4da9-ba8b-8b3ac27cfa05",
   "metadata": {},
   "source": [
    "Run the Docker container:\n",
    "```bash\n",
    "docker run -it --rm -p 9696:9696 subscription-service\n",
    "```"
   ]
  },
  {
   "cell_type": "code",
   "execution_count": 12,
   "id": "a6bbc2d4-4a69-4c1f-ac87-2a9c448bdcc1",
   "metadata": {},
   "outputs": [
    {
     "name": "stdout",
     "output_type": "stream",
     "text": [
      "{'subscribe': True, 'subscribe_probability': 0.7590966516879658}\n"
     ]
    }
   ],
   "source": [
    "# Score this client using requests\n",
    "import requests\n",
    "\n",
    "\n",
    "url = 'http://localhost:9696/predict'\n",
    "\n",
    "client = {\"job\": \"management\", \"duration\": 400, \"poutcome\": \"success\"}\n",
    "\n",
    "response = requests.post(url, json=client).json()\n",
    "print(response)"
   ]
  },
  {
   "cell_type": "code",
   "execution_count": 13,
   "id": "73a58cf6-a9f4-4aa8-800c-29f337cf5343",
   "metadata": {},
   "outputs": [
    {
     "name": "stdout",
     "output_type": "stream",
     "text": [
      "This client will get a subscription.\n"
     ]
    }
   ],
   "source": [
    "if response['subscribe']:\n",
    "    print(\"This client will get a subscription.\")\n",
    "else:\n",
    "    print(\"This client won't get a subscription.\")"
   ]
  },
  {
   "cell_type": "code",
   "execution_count": 14,
   "id": "3b17b959-895e-4079-85e3-45a1f445c724",
   "metadata": {},
   "outputs": [
    {
     "data": {
      "text/plain": [
       "0.759"
      ]
     },
     "execution_count": 14,
     "metadata": {},
     "output_type": "execute_result"
    }
   ],
   "source": [
    "round(response['subscribe_probability'], 3)"
   ]
  },
  {
   "cell_type": "markdown",
   "id": "435baf14-147f-450a-9250-002bbcb84a9c",
   "metadata": {},
   "source": [
    "**Ans:** The probability that this client will get a subscription is `0.759` now. Because my answer does not match any of the available options, the closest to my solution would be `0.757`. "
   ]
  },
  {
   "cell_type": "markdown",
   "id": "1703f7a8-3f1a-4239-a524-d592df81a0ea",
   "metadata": {},
   "source": [
    "## Submit the results\n",
    "\n",
    "* Submit your results here: https://courses.datatalks.club/ml-zoomcamp-2024/homework/hw05\n",
    "* If your answer doesn't match options exactly, select the closest one\n"
   ]
  }
 ],
 "metadata": {
  "kernelspec": {
   "display_name": "Python 3 (ipykernel)",
   "language": "python",
   "name": "python3"
  },
  "language_info": {
   "codemirror_mode": {
    "name": "ipython",
    "version": 3
   },
   "file_extension": ".py",
   "mimetype": "text/x-python",
   "name": "python",
   "nbconvert_exporter": "python",
   "pygments_lexer": "ipython3",
   "version": "3.11.3"
  }
 },
 "nbformat": 4,
 "nbformat_minor": 5
}
