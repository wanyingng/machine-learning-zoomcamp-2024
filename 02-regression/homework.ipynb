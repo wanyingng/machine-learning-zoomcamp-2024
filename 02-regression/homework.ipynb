{
 "cells": [
  {
   "cell_type": "markdown",
   "id": "60b71dbe-a5da-4668-a66d-09f1578acefc",
   "metadata": {},
   "source": [
    "## Homework 2: Machine Learning for Regression\n",
    "\n",
    "> Note: sometimes your answer doesn't match one of \n",
    "> the options exactly. That's fine. \n",
    "> Select the option that's closest to your solution.\n",
    "\n",
    "\n",
    "### Dataset\n",
    "\n",
    "In this homework, we will use the Laptops price dataset from [Kaggle](https://www.kaggle.com/datasets/juanmerinobermejo/laptops-price-dataset).\n",
    "\n",
    "Here's a wget-able [link](https://raw.githubusercontent.com/alexeygrigorev/datasets/master/laptops.csv):\n",
    "\n",
    "```bash\n",
    "wget https://raw.githubusercontent.com/alexeygrigorev/datasets/master/laptops.csv\n",
    "```\n",
    "\n",
    "The goal of this homework is to create a regression model for predicting the prices (column `'Final Price'`).\n"
   ]
  },
  {
   "cell_type": "code",
   "execution_count": 1,
   "id": "55ded9f2-6ce7-47e2-8c2b-cf4e9508e3f3",
   "metadata": {},
   "outputs": [],
   "source": [
    "import pandas as pd\n",
    "import numpy as np"
   ]
  },
  {
   "cell_type": "code",
   "execution_count": 2,
   "id": "13829709-c817-4658-be87-4c6e45220b8a",
   "metadata": {},
   "outputs": [
    {
     "data": {
      "text/html": [
       "<div>\n",
       "<style scoped>\n",
       "    .dataframe tbody tr th:only-of-type {\n",
       "        vertical-align: middle;\n",
       "    }\n",
       "\n",
       "    .dataframe tbody tr th {\n",
       "        vertical-align: top;\n",
       "    }\n",
       "\n",
       "    .dataframe thead th {\n",
       "        text-align: right;\n",
       "    }\n",
       "</style>\n",
       "<table border=\"1\" class=\"dataframe\">\n",
       "  <thead>\n",
       "    <tr style=\"text-align: right;\">\n",
       "      <th></th>\n",
       "      <th>Laptop</th>\n",
       "      <th>Status</th>\n",
       "      <th>Brand</th>\n",
       "      <th>Model</th>\n",
       "      <th>CPU</th>\n",
       "      <th>RAM</th>\n",
       "      <th>Storage</th>\n",
       "      <th>Storage type</th>\n",
       "      <th>GPU</th>\n",
       "      <th>Screen</th>\n",
       "      <th>Touch</th>\n",
       "      <th>Final Price</th>\n",
       "    </tr>\n",
       "  </thead>\n",
       "  <tbody>\n",
       "    <tr>\n",
       "      <th>0</th>\n",
       "      <td>ASUS ExpertBook B1 B1502CBA-EJ0436X Intel Core...</td>\n",
       "      <td>New</td>\n",
       "      <td>Asus</td>\n",
       "      <td>ExpertBook</td>\n",
       "      <td>Intel Core i5</td>\n",
       "      <td>8</td>\n",
       "      <td>512</td>\n",
       "      <td>SSD</td>\n",
       "      <td>NaN</td>\n",
       "      <td>15.6</td>\n",
       "      <td>No</td>\n",
       "      <td>1009.00</td>\n",
       "    </tr>\n",
       "    <tr>\n",
       "      <th>1</th>\n",
       "      <td>Alurin Go Start Intel Celeron N4020/8GB/256GB ...</td>\n",
       "      <td>New</td>\n",
       "      <td>Alurin</td>\n",
       "      <td>Go</td>\n",
       "      <td>Intel Celeron</td>\n",
       "      <td>8</td>\n",
       "      <td>256</td>\n",
       "      <td>SSD</td>\n",
       "      <td>NaN</td>\n",
       "      <td>15.6</td>\n",
       "      <td>No</td>\n",
       "      <td>299.00</td>\n",
       "    </tr>\n",
       "    <tr>\n",
       "      <th>2</th>\n",
       "      <td>ASUS ExpertBook B1 B1502CBA-EJ0424X Intel Core...</td>\n",
       "      <td>New</td>\n",
       "      <td>Asus</td>\n",
       "      <td>ExpertBook</td>\n",
       "      <td>Intel Core i3</td>\n",
       "      <td>8</td>\n",
       "      <td>256</td>\n",
       "      <td>SSD</td>\n",
       "      <td>NaN</td>\n",
       "      <td>15.6</td>\n",
       "      <td>No</td>\n",
       "      <td>789.00</td>\n",
       "    </tr>\n",
       "    <tr>\n",
       "      <th>3</th>\n",
       "      <td>MSI Katana GF66 12UC-082XES Intel Core i7-1270...</td>\n",
       "      <td>New</td>\n",
       "      <td>MSI</td>\n",
       "      <td>Katana</td>\n",
       "      <td>Intel Core i7</td>\n",
       "      <td>16</td>\n",
       "      <td>1000</td>\n",
       "      <td>SSD</td>\n",
       "      <td>RTX 3050</td>\n",
       "      <td>15.6</td>\n",
       "      <td>No</td>\n",
       "      <td>1199.00</td>\n",
       "    </tr>\n",
       "    <tr>\n",
       "      <th>4</th>\n",
       "      <td>HP 15S-FQ5085NS Intel Core i5-1235U/16GB/512GB...</td>\n",
       "      <td>New</td>\n",
       "      <td>HP</td>\n",
       "      <td>15S</td>\n",
       "      <td>Intel Core i5</td>\n",
       "      <td>16</td>\n",
       "      <td>512</td>\n",
       "      <td>SSD</td>\n",
       "      <td>NaN</td>\n",
       "      <td>15.6</td>\n",
       "      <td>No</td>\n",
       "      <td>669.01</td>\n",
       "    </tr>\n",
       "    <tr>\n",
       "      <th>...</th>\n",
       "      <td>...</td>\n",
       "      <td>...</td>\n",
       "      <td>...</td>\n",
       "      <td>...</td>\n",
       "      <td>...</td>\n",
       "      <td>...</td>\n",
       "      <td>...</td>\n",
       "      <td>...</td>\n",
       "      <td>...</td>\n",
       "      <td>...</td>\n",
       "      <td>...</td>\n",
       "      <td>...</td>\n",
       "    </tr>\n",
       "    <tr>\n",
       "      <th>2155</th>\n",
       "      <td>Razer Blade 17 FHD 360Hz Intel Core i7-11800H/...</td>\n",
       "      <td>Refurbished</td>\n",
       "      <td>Razer</td>\n",
       "      <td>Blade</td>\n",
       "      <td>Intel Core i7</td>\n",
       "      <td>16</td>\n",
       "      <td>1000</td>\n",
       "      <td>SSD</td>\n",
       "      <td>RTX 3060</td>\n",
       "      <td>17.3</td>\n",
       "      <td>No</td>\n",
       "      <td>2699.99</td>\n",
       "    </tr>\n",
       "    <tr>\n",
       "      <th>2156</th>\n",
       "      <td>Razer Blade 17 FHD 360Hz Intel Core i7-11800H/...</td>\n",
       "      <td>Refurbished</td>\n",
       "      <td>Razer</td>\n",
       "      <td>Blade</td>\n",
       "      <td>Intel Core i7</td>\n",
       "      <td>16</td>\n",
       "      <td>1000</td>\n",
       "      <td>SSD</td>\n",
       "      <td>RTX 3070</td>\n",
       "      <td>17.3</td>\n",
       "      <td>No</td>\n",
       "      <td>2899.99</td>\n",
       "    </tr>\n",
       "    <tr>\n",
       "      <th>2157</th>\n",
       "      <td>Razer Blade 17 FHD 360Hz Intel Core i7-11800H/...</td>\n",
       "      <td>Refurbished</td>\n",
       "      <td>Razer</td>\n",
       "      <td>Blade</td>\n",
       "      <td>Intel Core i7</td>\n",
       "      <td>32</td>\n",
       "      <td>1000</td>\n",
       "      <td>SSD</td>\n",
       "      <td>RTX 3080</td>\n",
       "      <td>17.3</td>\n",
       "      <td>No</td>\n",
       "      <td>3399.99</td>\n",
       "    </tr>\n",
       "    <tr>\n",
       "      <th>2158</th>\n",
       "      <td>Razer Book 13 Intel Evo Core i7-1165G7/16GB/1T...</td>\n",
       "      <td>Refurbished</td>\n",
       "      <td>Razer</td>\n",
       "      <td>Book</td>\n",
       "      <td>Intel Evo Core i7</td>\n",
       "      <td>16</td>\n",
       "      <td>1000</td>\n",
       "      <td>SSD</td>\n",
       "      <td>NaN</td>\n",
       "      <td>13.4</td>\n",
       "      <td>Yes</td>\n",
       "      <td>1899.99</td>\n",
       "    </tr>\n",
       "    <tr>\n",
       "      <th>2159</th>\n",
       "      <td>Razer Book FHD+ Intel Evo Core i7-1165G7/16GB/...</td>\n",
       "      <td>Refurbished</td>\n",
       "      <td>Razer</td>\n",
       "      <td>Book</td>\n",
       "      <td>Intel Evo Core i7</td>\n",
       "      <td>16</td>\n",
       "      <td>256</td>\n",
       "      <td>SSD</td>\n",
       "      <td>NaN</td>\n",
       "      <td>13.4</td>\n",
       "      <td>Yes</td>\n",
       "      <td>1699.99</td>\n",
       "    </tr>\n",
       "  </tbody>\n",
       "</table>\n",
       "<p>2160 rows × 12 columns</p>\n",
       "</div>"
      ],
      "text/plain": [
       "                                                 Laptop       Status   Brand  \\\n",
       "0     ASUS ExpertBook B1 B1502CBA-EJ0436X Intel Core...          New    Asus   \n",
       "1     Alurin Go Start Intel Celeron N4020/8GB/256GB ...          New  Alurin   \n",
       "2     ASUS ExpertBook B1 B1502CBA-EJ0424X Intel Core...          New    Asus   \n",
       "3     MSI Katana GF66 12UC-082XES Intel Core i7-1270...          New     MSI   \n",
       "4     HP 15S-FQ5085NS Intel Core i5-1235U/16GB/512GB...          New      HP   \n",
       "...                                                 ...          ...     ...   \n",
       "2155  Razer Blade 17 FHD 360Hz Intel Core i7-11800H/...  Refurbished   Razer   \n",
       "2156  Razer Blade 17 FHD 360Hz Intel Core i7-11800H/...  Refurbished   Razer   \n",
       "2157  Razer Blade 17 FHD 360Hz Intel Core i7-11800H/...  Refurbished   Razer   \n",
       "2158  Razer Book 13 Intel Evo Core i7-1165G7/16GB/1T...  Refurbished   Razer   \n",
       "2159  Razer Book FHD+ Intel Evo Core i7-1165G7/16GB/...  Refurbished   Razer   \n",
       "\n",
       "           Model                CPU  RAM  Storage Storage type       GPU  \\\n",
       "0     ExpertBook      Intel Core i5    8      512          SSD       NaN   \n",
       "1             Go      Intel Celeron    8      256          SSD       NaN   \n",
       "2     ExpertBook      Intel Core i3    8      256          SSD       NaN   \n",
       "3         Katana      Intel Core i7   16     1000          SSD  RTX 3050   \n",
       "4            15S      Intel Core i5   16      512          SSD       NaN   \n",
       "...          ...                ...  ...      ...          ...       ...   \n",
       "2155       Blade      Intel Core i7   16     1000          SSD  RTX 3060   \n",
       "2156       Blade      Intel Core i7   16     1000          SSD  RTX 3070   \n",
       "2157       Blade      Intel Core i7   32     1000          SSD  RTX 3080   \n",
       "2158        Book  Intel Evo Core i7   16     1000          SSD       NaN   \n",
       "2159        Book  Intel Evo Core i7   16      256          SSD       NaN   \n",
       "\n",
       "      Screen Touch  Final Price  \n",
       "0       15.6    No      1009.00  \n",
       "1       15.6    No       299.00  \n",
       "2       15.6    No       789.00  \n",
       "3       15.6    No      1199.00  \n",
       "4       15.6    No       669.01  \n",
       "...      ...   ...          ...  \n",
       "2155    17.3    No      2699.99  \n",
       "2156    17.3    No      2899.99  \n",
       "2157    17.3    No      3399.99  \n",
       "2158    13.4   Yes      1899.99  \n",
       "2159    13.4   Yes      1699.99  \n",
       "\n",
       "[2160 rows x 12 columns]"
      ]
     },
     "execution_count": 2,
     "metadata": {},
     "output_type": "execute_result"
    }
   ],
   "source": [
    "data = 'https://raw.githubusercontent.com/alexeygrigorev/datasets/master/laptops.csv'\n",
    "df = pd.read_csv(data)\n",
    "df"
   ]
  },
  {
   "cell_type": "markdown",
   "id": "89261260-c51f-40a9-ba64-c4e7ad5e56ec",
   "metadata": {},
   "source": [
    "### Preparing the dataset \n",
    "\n",
    "First, we'll normalize the names of the columns:\n",
    "\n",
    "```python\n",
    "df.columns = df.columns.str.lower().str.replace(' ', '_')\n",
    "```\n",
    "\n",
    "Now, instead of `'Final Price'`, we have `'final_price'`.\n",
    "\n",
    "Next, use only the following columns:\n",
    "\n",
    "* `'ram'`,\n",
    "* `'storage'`,\n",
    "* `'screen'`,\n",
    "* `'final_price'`\n"
   ]
  },
  {
   "cell_type": "code",
   "execution_count": 3,
   "id": "b1de656f-683a-45f9-8b06-83cd82eca344",
   "metadata": {},
   "outputs": [
    {
     "data": {
      "text/plain": [
       "Index(['Laptop', 'Status', 'Brand', 'Model', 'CPU', 'RAM', 'Storage',\n",
       "       'Storage type', 'GPU', 'Screen', 'Touch', 'Final Price'],\n",
       "      dtype='object')"
      ]
     },
     "execution_count": 3,
     "metadata": {},
     "output_type": "execute_result"
    }
   ],
   "source": [
    "df.columns"
   ]
  },
  {
   "cell_type": "code",
   "execution_count": 4,
   "id": "d3324102-a43e-4c6d-b5e8-770bbf12da4d",
   "metadata": {},
   "outputs": [
    {
     "data": {
      "text/plain": [
       "Index(['laptop', 'status', 'brand', 'model', 'cpu', 'ram', 'storage',\n",
       "       'storage_type', 'gpu', 'screen', 'touch', 'final_price'],\n",
       "      dtype='object')"
      ]
     },
     "execution_count": 4,
     "metadata": {},
     "output_type": "execute_result"
    }
   ],
   "source": [
    "# Normalize the names of the columns\n",
    "df.columns = df.columns.str.lower().str.replace(' ', '_')\n",
    "df.columns"
   ]
  },
  {
   "cell_type": "code",
   "execution_count": 5,
   "id": "61172b33-f32a-4b38-b0f6-4e1085f84ef6",
   "metadata": {},
   "outputs": [
    {
     "data": {
      "text/html": [
       "<div>\n",
       "<style scoped>\n",
       "    .dataframe tbody tr th:only-of-type {\n",
       "        vertical-align: middle;\n",
       "    }\n",
       "\n",
       "    .dataframe tbody tr th {\n",
       "        vertical-align: top;\n",
       "    }\n",
       "\n",
       "    .dataframe thead th {\n",
       "        text-align: right;\n",
       "    }\n",
       "</style>\n",
       "<table border=\"1\" class=\"dataframe\">\n",
       "  <thead>\n",
       "    <tr style=\"text-align: right;\">\n",
       "      <th></th>\n",
       "      <th>ram</th>\n",
       "      <th>storage</th>\n",
       "      <th>screen</th>\n",
       "      <th>final_price</th>\n",
       "    </tr>\n",
       "  </thead>\n",
       "  <tbody>\n",
       "    <tr>\n",
       "      <th>0</th>\n",
       "      <td>8</td>\n",
       "      <td>512</td>\n",
       "      <td>15.6</td>\n",
       "      <td>1009.00</td>\n",
       "    </tr>\n",
       "    <tr>\n",
       "      <th>1</th>\n",
       "      <td>8</td>\n",
       "      <td>256</td>\n",
       "      <td>15.6</td>\n",
       "      <td>299.00</td>\n",
       "    </tr>\n",
       "    <tr>\n",
       "      <th>2</th>\n",
       "      <td>8</td>\n",
       "      <td>256</td>\n",
       "      <td>15.6</td>\n",
       "      <td>789.00</td>\n",
       "    </tr>\n",
       "    <tr>\n",
       "      <th>3</th>\n",
       "      <td>16</td>\n",
       "      <td>1000</td>\n",
       "      <td>15.6</td>\n",
       "      <td>1199.00</td>\n",
       "    </tr>\n",
       "    <tr>\n",
       "      <th>4</th>\n",
       "      <td>16</td>\n",
       "      <td>512</td>\n",
       "      <td>15.6</td>\n",
       "      <td>669.01</td>\n",
       "    </tr>\n",
       "  </tbody>\n",
       "</table>\n",
       "</div>"
      ],
      "text/plain": [
       "   ram  storage  screen  final_price\n",
       "0    8      512    15.6      1009.00\n",
       "1    8      256    15.6       299.00\n",
       "2    8      256    15.6       789.00\n",
       "3   16     1000    15.6      1199.00\n",
       "4   16      512    15.6       669.01"
      ]
     },
     "execution_count": 5,
     "metadata": {},
     "output_type": "execute_result"
    }
   ],
   "source": [
    "columns_filter = ['ram', 'storage', 'screen', 'final_price']\n",
    "df_filtered = df[columns_filter]\n",
    "df_filtered.head(n=5)"
   ]
  },
  {
   "cell_type": "markdown",
   "id": "2430a3ec-3d57-4c2e-8ac8-c65dd479a21c",
   "metadata": {},
   "source": [
    "### EDA\n",
    "\n",
    "* Look at the `final_price` variable. Does it have a long tail? "
   ]
  },
  {
   "cell_type": "code",
   "execution_count": 6,
   "id": "957a7255-dfab-4233-9265-d6a4eca5abb5",
   "metadata": {},
   "outputs": [],
   "source": [
    "import matplotlib.pyplot as plt\n",
    "import seaborn as sns\n",
    "\n",
    "# Ensure all these plots can be displayed in a notebook\n",
    "%matplotlib inline"
   ]
  },
  {
   "cell_type": "code",
   "execution_count": 7,
   "id": "8210a2cf-c73c-4abd-932e-bb560590062c",
   "metadata": {},
   "outputs": [
    {
     "data": {
      "image/png": "[encoded data removed]",
      "text/plain": [
       "<Figure size 600x400 with 1 Axes>"
      ]
     },
     "metadata": {},
     "output_type": "display_data"
    }
   ],
   "source": [
    "# Plot the histogram of final_price\n",
    "plt.figure(figsize=(6, 4))\n",
    "\n",
    "sns.histplot(df_filtered.final_price, bins=50, color='#ff66a3')\n",
    "plt.ylabel('Frequency')\n",
    "plt.xlabel('Final Price')\n",
    "plt.title('Distribution of final prices')\n",
    "\n",
    "plt.show()"
   ]
  },
  {
   "cell_type": "code",
   "execution_count": 8,
   "id": "35a7e4af-5a95-4f78-a379-c9806771763f",
   "metadata": {},
   "outputs": [
    {
     "data": {
      "text/plain": [
       "count    2160.00\n",
       "mean     1312.64\n",
       "std       911.48\n",
       "min       201.05\n",
       "25%       661.08\n",
       "50%      1031.95\n",
       "75%      1708.97\n",
       "max      7150.47\n",
       "Name: final_price, dtype: float64"
      ]
     },
     "execution_count": 8,
     "metadata": {},
     "output_type": "execute_result"
    }
   ],
   "source": [
    "df_filtered.final_price.describe().round(2)"
   ]
  },
  {
   "cell_type": "code",
   "execution_count": 9,
   "id": "3d49126e-7661-47f3-acf5-894c15baa617",
   "metadata": {},
   "outputs": [
    {
     "name": "stdout",
     "output_type": "stream",
     "text": [
      "Skewness: 1.65\n"
     ]
    }
   ],
   "source": [
    "# Calculate skewness\n",
    "skewness = df_filtered.final_price.skew()\n",
    "print(f\"Skewness: {skewness:.2f}\")"
   ]
  },
  {
   "cell_type": "markdown",
   "id": "4bc34ead-268e-4541-a38a-65f3c8ca7016",
   "metadata": {},
   "source": [
    "The `final_price` variable has a long tail distribution because the histogram is skewed to the right, where the tail on the right side is longer than usual, and the peak (highest point) of the graph lies to the left side of the center. On the right side of the graph, the frequencies of observations are lower than the frequencies of observations to the left side, meaning the larger values are not as common, while the smaller values appear more often in the data.\n",
    "\n",
    "Right-skewed distributions also indicate that the mean, or average, is greater than the median. There are values in the dataset that are much greater than the median, or the value where 50% of the data is either lower or higher.\n",
    "\n",
    "**Understanding Skewness**\n",
    "\n",
    "Skewness refers to the asymmetry or lack of symmetry in the distribution of data. A dataset is considered skewed if the distribution is not symmetrical, meaning that the tail of the distribution is longer on one side than the other. \n",
    "\n",
    "Skewness can manifest in two forms:\n",
    "1. **Positive Skewness (Right-skewed)**: In a positively skewed distribution, the tail of the distribution extends to the right, indicating that the majority of the data points are concentrated on the left side, with a few outliers on the right.\n",
    "2. **Negative Skewness (Left-skewed)**: Conversely, in a negatively skewed distribution, the tail of the distribution extends to the left, indicating that the majority of the data points are concentrated on the right side, with a few outliers on the left.\n",
    "\n",
    "Skewed data can pose significant challenges in machine learning:\n",
    "1. **Biased Models**: Machine learning models trained on skewed data may exhibit bias towards the majority class or the dominant range of values, leading to poor generalization performance on unseen data.\n",
    "2. **Inaccurate Predictions**: Skewed data can distort the relationship between input features and target variables, resulting in inaccurate predictions and unreliable insights.\n",
    "3. **Suboptimal Performance**: Skewed data can hinder the performance of various machine learning algorithms, especially those that assume a normal distribution of data, such as linear regression and logistic regression.\n",
    "\n",
    "**Handling Skewness:**\n",
    "\n",
    "To mitigate the effects of skewness and improve the performance of machine learning models, data preprocessing techniques and transformations can be applied. Here are some common approaches:\n",
    "\n",
    "- **Log Transformation**:\n",
    "    - Log transformation is particularly effective for reducing right-skewness in data.\n",
    "    - It involves applying the natural logarithm (or other logarithmic functions) to the skewed feature, which compresses large values and expands small values.\n",
    "    - Log transformation can help stabilize variance and make the distribution more symmetrical.\n",
    "\n",
    "- **Box-Cox Transformation**:\n",
    "    - The Box-Cox transformation is a versatile method that can handle both positive and negative skewness.\n",
    "    - It uses a power transformation parameter (lambda) to find the optimal transformation that maximizes the normality of the data.\n",
    "    - The Box-Cox transformation is effective for a wide range of distributions and can be applied to multiple features simultaneously.\n",
    "\n",
    "- **Yeo-Johnson Transformation**:\n",
    "    - Similar to the Box-Cox transformation, the Yeo-Johnson transformation is a power transformation method that can handle skewed data.\n",
    "    - Unlike Box-Cox, Yeo-Johnson allows for transformation of both positive and negative values, making it more flexible in practice.\n",
    "\n",
    "By understanding the nature of skewness and applying appropriate preprocessing methods such as log transformation, Box-Cox transformation, or data binning, data scientists can improve the performance and reliability of their machine-learning models. As the saying goes, *“A well-transformed dataset is the foundation of a robust machine-learning model.”*"
   ]
  },
  {
   "cell_type": "code",
   "execution_count": 10,
   "id": "d5a5d068-b252-48d3-b996-5d4707b587eb",
   "metadata": {},
   "outputs": [
    {
     "data": {
      "image/png": "[encoded data removed]",
      "text/plain": [
       "<Figure size 600x400 with 1 Axes>"
      ]
     },
     "metadata": {},
     "output_type": "display_data"
    }
   ],
   "source": [
    "# Plot the histogram of final_price after applying log transformation\n",
    "plt.figure(figsize=(6, 4))\n",
    "\n",
    "final_price_logs = np.log1p(df_filtered.final_price)\n",
    "sns.histplot(final_price_logs, bins=50, color='#ff66a3')\n",
    "plt.ylabel('Frequency')\n",
    "plt.xlabel('Log(Final Price + 1)')\n",
    "plt.title('Distribution of final prices after log transformation')\n",
    "\n",
    "plt.show()"
   ]
  },
  {
   "cell_type": "markdown",
   "id": "7bd7ddc8-2d5f-439f-9df2-16af68f626e8",
   "metadata": {},
   "source": [
    "### Question 1\n",
    "\n",
    "There's one column with missing values. What is it?\n",
    "\n",
    "* `'ram'`\n",
    "* `'storage'`\n",
    "* `'screen'`\n",
    "* `'final_price'`"
   ]
  },
  {
   "cell_type": "code",
   "execution_count": 11,
   "id": "b97d3ff5-409e-4890-9219-e496a3c5bf04",
   "metadata": {},
   "outputs": [
    {
     "data": {
      "text/plain": [
       "ram            0\n",
       "storage        0\n",
       "screen         4\n",
       "final_price    0\n",
       "dtype: int64"
      ]
     },
     "execution_count": 11,
     "metadata": {},
     "output_type": "execute_result"
    }
   ],
   "source": [
    "df_filtered.isnull().sum()"
   ]
  },
  {
   "cell_type": "markdown",
   "id": "d05e3b94-a678-4eb5-813d-ad4c271a2eec",
   "metadata": {},
   "source": [
    "**Ans:** `screen` "
   ]
  },
  {
   "cell_type": "markdown",
   "id": "5c61a240-3b0e-493b-995f-9a5bbaaaf25a",
   "metadata": {},
   "source": [
    "### Question 2\n",
    "\n",
    "What's the median (50% percentile) for variable `'ram'`?\n",
    "\n",
    "- 8\n",
    "- 16\n",
    "- 24\n",
    "- 32"
   ]
  },
  {
   "cell_type": "code",
   "execution_count": 12,
   "id": "b2e2b62c-7259-4882-ab40-9878ed350e56",
   "metadata": {},
   "outputs": [
    {
     "data": {
      "text/plain": [
       "np.float64(16.0)"
      ]
     },
     "execution_count": 12,
     "metadata": {},
     "output_type": "execute_result"
    }
   ],
   "source": [
    "df_filtered.ram.median()"
   ]
  },
  {
   "cell_type": "markdown",
   "id": "35541f0b-3ba4-4820-8249-9b2c757c7d4d",
   "metadata": {},
   "source": [
    "**Ans:** The median for `ram` is 16."
   ]
  },
  {
   "cell_type": "markdown",
   "id": "70ab6281-f5df-4c37-a853-c0fa4ce8fecd",
   "metadata": {},
   "source": [
    "### Prepare and split the dataset\n",
    "\n",
    "* Shuffle the dataset (the filtered one you created above), use seed `42`.\n",
    "* Split your data in train/val/test sets, with 60%/20%/20% distribution.\n",
    "\n",
    "Use the same code as in the lectures"
   ]
  },
  {
   "cell_type": "code",
   "execution_count": 13,
   "id": "ce021930-f316-4483-bb2e-9a80ba49bcfe",
   "metadata": {},
   "outputs": [
    {
     "data": {
      "text/plain": [
       "2160"
      ]
     },
     "execution_count": 13,
     "metadata": {},
     "output_type": "execute_result"
    }
   ],
   "source": [
    "n = len(df_filtered)\n",
    "n"
   ]
  },
  {
   "cell_type": "code",
   "execution_count": 14,
   "id": "b30715ff-c4b7-4455-9dff-2fd173b705a6",
   "metadata": {},
   "outputs": [
    {
     "data": {
      "text/html": [
       "<div>\n",
       "<style scoped>\n",
       "    .dataframe tbody tr th:only-of-type {\n",
       "        vertical-align: middle;\n",
       "    }\n",
       "\n",
       "    .dataframe tbody tr th {\n",
       "        vertical-align: top;\n",
       "    }\n",
       "\n",
       "    .dataframe thead th {\n",
       "        text-align: right;\n",
       "    }\n",
       "</style>\n",
       "<table border=\"1\" class=\"dataframe\">\n",
       "  <thead>\n",
       "    <tr style=\"text-align: right;\">\n",
       "      <th></th>\n",
       "      <th>ram</th>\n",
       "      <th>storage</th>\n",
       "      <th>screen</th>\n",
       "      <th>final_price</th>\n",
       "    </tr>\n",
       "  </thead>\n",
       "  <tbody>\n",
       "    <tr>\n",
       "      <th>0</th>\n",
       "      <td>8</td>\n",
       "      <td>512</td>\n",
       "      <td>15.6</td>\n",
       "      <td>1009.00</td>\n",
       "    </tr>\n",
       "    <tr>\n",
       "      <th>1</th>\n",
       "      <td>8</td>\n",
       "      <td>256</td>\n",
       "      <td>15.6</td>\n",
       "      <td>299.00</td>\n",
       "    </tr>\n",
       "    <tr>\n",
       "      <th>2</th>\n",
       "      <td>8</td>\n",
       "      <td>256</td>\n",
       "      <td>15.6</td>\n",
       "      <td>789.00</td>\n",
       "    </tr>\n",
       "    <tr>\n",
       "      <th>3</th>\n",
       "      <td>16</td>\n",
       "      <td>1000</td>\n",
       "      <td>15.6</td>\n",
       "      <td>1199.00</td>\n",
       "    </tr>\n",
       "    <tr>\n",
       "      <th>4</th>\n",
       "      <td>16</td>\n",
       "      <td>512</td>\n",
       "      <td>15.6</td>\n",
       "      <td>669.01</td>\n",
       "    </tr>\n",
       "    <tr>\n",
       "      <th>...</th>\n",
       "      <td>...</td>\n",
       "      <td>...</td>\n",
       "      <td>...</td>\n",
       "      <td>...</td>\n",
       "    </tr>\n",
       "    <tr>\n",
       "      <th>2155</th>\n",
       "      <td>16</td>\n",
       "      <td>1000</td>\n",
       "      <td>17.3</td>\n",
       "      <td>2699.99</td>\n",
       "    </tr>\n",
       "    <tr>\n",
       "      <th>2156</th>\n",
       "      <td>16</td>\n",
       "      <td>1000</td>\n",
       "      <td>17.3</td>\n",
       "      <td>2899.99</td>\n",
       "    </tr>\n",
       "    <tr>\n",
       "      <th>2157</th>\n",
       "      <td>32</td>\n",
       "      <td>1000</td>\n",
       "      <td>17.3</td>\n",
       "      <td>3399.99</td>\n",
       "    </tr>\n",
       "    <tr>\n",
       "      <th>2158</th>\n",
       "      <td>16</td>\n",
       "      <td>1000</td>\n",
       "      <td>13.4</td>\n",
       "      <td>1899.99</td>\n",
       "    </tr>\n",
       "    <tr>\n",
       "      <th>2159</th>\n",
       "      <td>16</td>\n",
       "      <td>256</td>\n",
       "      <td>13.4</td>\n",
       "      <td>1699.99</td>\n",
       "    </tr>\n",
       "  </tbody>\n",
       "</table>\n",
       "<p>2160 rows × 4 columns</p>\n",
       "</div>"
      ],
      "text/plain": [
       "      ram  storage  screen  final_price\n",
       "0       8      512    15.6      1009.00\n",
       "1       8      256    15.6       299.00\n",
       "2       8      256    15.6       789.00\n",
       "3      16     1000    15.6      1199.00\n",
       "4      16      512    15.6       669.01\n",
       "...   ...      ...     ...          ...\n",
       "2155   16     1000    17.3      2699.99\n",
       "2156   16     1000    17.3      2899.99\n",
       "2157   32     1000    17.3      3399.99\n",
       "2158   16     1000    13.4      1899.99\n",
       "2159   16      256    13.4      1699.99\n",
       "\n",
       "[2160 rows x 4 columns]"
      ]
     },
     "execution_count": 14,
     "metadata": {},
     "output_type": "execute_result"
    }
   ],
   "source": [
    "df_filtered"
   ]
  },
  {
   "cell_type": "code",
   "execution_count": 15,
   "id": "7dcd012e-3196-4445-87dc-966229ef03b3",
   "metadata": {},
   "outputs": [
    {
     "data": {
      "text/plain": [
       "array([   0,    1,    2, ..., 2157, 2158, 2159])"
      ]
     },
     "execution_count": 15,
     "metadata": {},
     "output_type": "execute_result"
    }
   ],
   "source": [
    "# Generate a sequence of numbers from 1 to n-1\n",
    "idx = np.arange(n)\n",
    "idx"
   ]
  },
  {
   "cell_type": "code",
   "execution_count": 16,
   "id": "7a1aa40a-e652-49fd-a52b-8e02616eb254",
   "metadata": {},
   "outputs": [
    {
     "data": {
      "text/plain": [
       "array([2079,  668, 2073, ..., 1130, 1294,  860])"
      ]
     },
     "execution_count": 16,
     "metadata": {},
     "output_type": "execute_result"
    }
   ],
   "source": [
    "# To make sure the results are reproducible, we usually set a random seed\n",
    "np.random.seed(42)\n",
    "# Shuffle the idx\n",
    "np.random.shuffle(idx)\n",
    "idx"
   ]
  },
  {
   "cell_type": "code",
   "execution_count": 17,
   "id": "382f03f9-7a08-4a36-a02e-963936fa004f",
   "metadata": {},
   "outputs": [
    {
     "data": {
      "text/html": [
       "<div>\n",
       "<style scoped>\n",
       "    .dataframe tbody tr th:only-of-type {\n",
       "        vertical-align: middle;\n",
       "    }\n",
       "\n",
       "    .dataframe tbody tr th {\n",
       "        vertical-align: top;\n",
       "    }\n",
       "\n",
       "    .dataframe thead th {\n",
       "        text-align: right;\n",
       "    }\n",
       "</style>\n",
       "<table border=\"1\" class=\"dataframe\">\n",
       "  <thead>\n",
       "    <tr style=\"text-align: right;\">\n",
       "      <th></th>\n",
       "      <th>ram</th>\n",
       "      <th>storage</th>\n",
       "      <th>screen</th>\n",
       "      <th>final_price</th>\n",
       "    </tr>\n",
       "  </thead>\n",
       "  <tbody>\n",
       "    <tr>\n",
       "      <th>2079</th>\n",
       "      <td>32</td>\n",
       "      <td>1000</td>\n",
       "      <td>15.6</td>\n",
       "      <td>1123.29</td>\n",
       "    </tr>\n",
       "    <tr>\n",
       "      <th>668</th>\n",
       "      <td>4</td>\n",
       "      <td>64</td>\n",
       "      <td>14.1</td>\n",
       "      <td>201.05</td>\n",
       "    </tr>\n",
       "    <tr>\n",
       "      <th>2073</th>\n",
       "      <td>32</td>\n",
       "      <td>1000</td>\n",
       "      <td>14.0</td>\n",
       "      <td>997.74</td>\n",
       "    </tr>\n",
       "    <tr>\n",
       "      <th>1113</th>\n",
       "      <td>16</td>\n",
       "      <td>512</td>\n",
       "      <td>13.3</td>\n",
       "      <td>1016.00</td>\n",
       "    </tr>\n",
       "    <tr>\n",
       "      <th>788</th>\n",
       "      <td>32</td>\n",
       "      <td>1000</td>\n",
       "      <td>16.0</td>\n",
       "      <td>2739.00</td>\n",
       "    </tr>\n",
       "  </tbody>\n",
       "</table>\n",
       "</div>"
      ],
      "text/plain": [
       "      ram  storage  screen  final_price\n",
       "2079   32     1000    15.6      1123.29\n",
       "668     4       64    14.1       201.05\n",
       "2073   32     1000    14.0       997.74\n",
       "1113   16      512    13.3      1016.00\n",
       "788    32     1000    16.0      2739.00"
      ]
     },
     "execution_count": 17,
     "metadata": {},
     "output_type": "execute_result"
    }
   ],
   "source": [
    "# Instead of getting the rows directly from iloc, we get them through idx\n",
    "df_filtered.iloc[idx[:5]]"
   ]
  },
  {
   "cell_type": "code",
   "execution_count": 18,
   "id": "cbb21b4a-fc19-44f7-88fb-a52a0c7a45ce",
   "metadata": {},
   "outputs": [
    {
     "data": {
      "text/plain": [
       "(1296, 432, 432)"
      ]
     },
     "execution_count": 18,
     "metadata": {},
     "output_type": "execute_result"
    }
   ],
   "source": [
    "# Split data into train/val/test sets, with 60%/20%/20% distribution\n",
    "\n",
    "# Size of validation dataset\n",
    "n_val = int(n * 0.2)\n",
    "# Size of test dataset\n",
    "n_test = int(n * 0.2)\n",
    "# Size of train dataset\n",
    "n_train = n - n_val - n_test\n",
    "\n",
    "n_train, n_val, n_test"
   ]
  },
  {
   "cell_type": "code",
   "execution_count": 19,
   "id": "ad364266-a8c3-4f40-804c-8444f234cdc2",
   "metadata": {},
   "outputs": [
    {
     "data": {
      "text/plain": [
       "(2160, 2160)"
      ]
     },
     "execution_count": 19,
     "metadata": {},
     "output_type": "execute_result"
    }
   ],
   "source": [
    "n_train + n_val + n_test, n"
   ]
  },
  {
   "cell_type": "code",
   "execution_count": 20,
   "id": "dcede708-185f-484c-b7f0-fab6ede31438",
   "metadata": {},
   "outputs": [],
   "source": [
    "df_train = df_filtered.iloc[idx[:n_train]]\n",
    "df_val = df_filtered.iloc[idx[n_train:n_train+n_val]]\n",
    "df_test = df_filtered.iloc[idx[n_train+n_val:]]"
   ]
  },
  {
   "cell_type": "code",
   "execution_count": 21,
   "id": "2a22d61a-96e2-4246-a95a-7890985f748a",
   "metadata": {},
   "outputs": [
    {
     "data": {
      "text/html": [
       "<div>\n",
       "<style scoped>\n",
       "    .dataframe tbody tr th:only-of-type {\n",
       "        vertical-align: middle;\n",
       "    }\n",
       "\n",
       "    .dataframe tbody tr th {\n",
       "        vertical-align: top;\n",
       "    }\n",
       "\n",
       "    .dataframe thead th {\n",
       "        text-align: right;\n",
       "    }\n",
       "</style>\n",
       "<table border=\"1\" class=\"dataframe\">\n",
       "  <thead>\n",
       "    <tr style=\"text-align: right;\">\n",
       "      <th></th>\n",
       "      <th>ram</th>\n",
       "      <th>storage</th>\n",
       "      <th>screen</th>\n",
       "      <th>final_price</th>\n",
       "    </tr>\n",
       "  </thead>\n",
       "  <tbody>\n",
       "    <tr>\n",
       "      <th>2079</th>\n",
       "      <td>32</td>\n",
       "      <td>1000</td>\n",
       "      <td>15.6</td>\n",
       "      <td>1123.29</td>\n",
       "    </tr>\n",
       "    <tr>\n",
       "      <th>668</th>\n",
       "      <td>4</td>\n",
       "      <td>64</td>\n",
       "      <td>14.1</td>\n",
       "      <td>201.05</td>\n",
       "    </tr>\n",
       "    <tr>\n",
       "      <th>2073</th>\n",
       "      <td>32</td>\n",
       "      <td>1000</td>\n",
       "      <td>14.0</td>\n",
       "      <td>997.74</td>\n",
       "    </tr>\n",
       "    <tr>\n",
       "      <th>1113</th>\n",
       "      <td>16</td>\n",
       "      <td>512</td>\n",
       "      <td>13.3</td>\n",
       "      <td>1016.00</td>\n",
       "    </tr>\n",
       "    <tr>\n",
       "      <th>788</th>\n",
       "      <td>32</td>\n",
       "      <td>1000</td>\n",
       "      <td>16.0</td>\n",
       "      <td>2739.00</td>\n",
       "    </tr>\n",
       "  </tbody>\n",
       "</table>\n",
       "</div>"
      ],
      "text/plain": [
       "      ram  storage  screen  final_price\n",
       "2079   32     1000    15.6      1123.29\n",
       "668     4       64    14.1       201.05\n",
       "2073   32     1000    14.0       997.74\n",
       "1113   16      512    13.3      1016.00\n",
       "788    32     1000    16.0      2739.00"
      ]
     },
     "execution_count": 21,
     "metadata": {},
     "output_type": "execute_result"
    }
   ],
   "source": [
    "df_train.head(n=5)"
   ]
  },
  {
   "cell_type": "code",
   "execution_count": 22,
   "id": "8001217f-c325-4d82-a0fe-8fb1907cbb99",
   "metadata": {},
   "outputs": [],
   "source": [
    "# Reset the index and drop the original indices from the dataframe\n",
    "df_train = df_train.reset_index(drop=True)\n",
    "df_val = df_val.reset_index(drop=True)\n",
    "df_test = df_test.reset_index(drop=True)"
   ]
  },
  {
   "cell_type": "code",
   "execution_count": 23,
   "id": "47c1648a-6bc7-40f3-a699-9f8c7d2224a4",
   "metadata": {},
   "outputs": [
    {
     "data": {
      "text/html": [
       "<div>\n",
       "<style scoped>\n",
       "    .dataframe tbody tr th:only-of-type {\n",
       "        vertical-align: middle;\n",
       "    }\n",
       "\n",
       "    .dataframe tbody tr th {\n",
       "        vertical-align: top;\n",
       "    }\n",
       "\n",
       "    .dataframe thead th {\n",
       "        text-align: right;\n",
       "    }\n",
       "</style>\n",
       "<table border=\"1\" class=\"dataframe\">\n",
       "  <thead>\n",
       "    <tr style=\"text-align: right;\">\n",
       "      <th></th>\n",
       "      <th>ram</th>\n",
       "      <th>storage</th>\n",
       "      <th>screen</th>\n",
       "      <th>final_price</th>\n",
       "    </tr>\n",
       "  </thead>\n",
       "  <tbody>\n",
       "    <tr>\n",
       "      <th>0</th>\n",
       "      <td>32</td>\n",
       "      <td>1000</td>\n",
       "      <td>15.6</td>\n",
       "      <td>1123.29</td>\n",
       "    </tr>\n",
       "    <tr>\n",
       "      <th>1</th>\n",
       "      <td>4</td>\n",
       "      <td>64</td>\n",
       "      <td>14.1</td>\n",
       "      <td>201.05</td>\n",
       "    </tr>\n",
       "    <tr>\n",
       "      <th>2</th>\n",
       "      <td>32</td>\n",
       "      <td>1000</td>\n",
       "      <td>14.0</td>\n",
       "      <td>997.74</td>\n",
       "    </tr>\n",
       "    <tr>\n",
       "      <th>3</th>\n",
       "      <td>16</td>\n",
       "      <td>512</td>\n",
       "      <td>13.3</td>\n",
       "      <td>1016.00</td>\n",
       "    </tr>\n",
       "    <tr>\n",
       "      <th>4</th>\n",
       "      <td>32</td>\n",
       "      <td>1000</td>\n",
       "      <td>16.0</td>\n",
       "      <td>2739.00</td>\n",
       "    </tr>\n",
       "  </tbody>\n",
       "</table>\n",
       "</div>"
      ],
      "text/plain": [
       "   ram  storage  screen  final_price\n",
       "0   32     1000    15.6      1123.29\n",
       "1    4       64    14.1       201.05\n",
       "2   32     1000    14.0       997.74\n",
       "3   16      512    13.3      1016.00\n",
       "4   32     1000    16.0      2739.00"
      ]
     },
     "execution_count": 23,
     "metadata": {},
     "output_type": "execute_result"
    }
   ],
   "source": [
    "df_train.head(n=5)"
   ]
  },
  {
   "cell_type": "code",
   "execution_count": 24,
   "id": "647eb615-dfe5-4795-95bd-38485d48dae1",
   "metadata": {},
   "outputs": [
    {
     "data": {
      "text/plain": [
       "(1296, 432, 432)"
      ]
     },
     "execution_count": 24,
     "metadata": {},
     "output_type": "execute_result"
    }
   ],
   "source": [
    "len(df_train), len(df_val), len(df_test)"
   ]
  },
  {
   "cell_type": "code",
   "execution_count": 25,
   "id": "0cffc505-4d16-4673-b874-813979fa74d5",
   "metadata": {},
   "outputs": [],
   "source": [
    "# Get the underlying numpy arrays instead of pandas series\n",
    "y_train = df_train.final_price.values\n",
    "y_val = df_val.final_price.values\n",
    "y_test = df_test.final_price.values"
   ]
  },
  {
   "cell_type": "code",
   "execution_count": 26,
   "id": "7250366b-22e6-4f86-ba4b-9227809f893d",
   "metadata": {},
   "outputs": [
    {
     "data": {
      "text/plain": [
       "(array([1123.29,  201.05,  997.74, 1016.  , 2739.  ]),\n",
       " array([2599.  ,  999.  ,  477.28, 1519.  ,  402.99]),\n",
       " array([4805.65, 2189.  , 1349.  , 2175.83, 1248.59]))"
      ]
     },
     "execution_count": 26,
     "metadata": {},
     "output_type": "execute_result"
    }
   ],
   "source": [
    "y_train[:5], y_val[:5], y_test[:5]"
   ]
  },
  {
   "cell_type": "code",
   "execution_count": 27,
   "id": "70a7e151-f6c6-47f5-9093-3ab23bc970ee",
   "metadata": {},
   "outputs": [],
   "source": [
    "# Remove final_price variable from dataframe to avoid accidentally using it \n",
    "del df_train['final_price']\n",
    "del df_val['final_price']\n",
    "del df_test['final_price']"
   ]
  },
  {
   "cell_type": "code",
   "execution_count": 28,
   "id": "5182edab-f037-4cd4-8198-f64380bbaeec",
   "metadata": {},
   "outputs": [
    {
     "data": {
      "text/plain": [
       "Index(['ram', 'storage', 'screen'], dtype='object')"
      ]
     },
     "execution_count": 28,
     "metadata": {},
     "output_type": "execute_result"
    }
   ],
   "source": [
    "df_train.columns"
   ]
  },
  {
   "cell_type": "code",
   "execution_count": 29,
   "id": "eef6cbfa-d1b3-4b22-b9b6-8ac542a59870",
   "metadata": {},
   "outputs": [
    {
     "data": {
      "text/plain": [
       "1296"
      ]
     },
     "execution_count": 29,
     "metadata": {},
     "output_type": "execute_result"
    }
   ],
   "source": [
    "len(y_train)"
   ]
  },
  {
   "cell_type": "markdown",
   "id": "0215303c-d791-4c02-9727-cdc8251f1b68",
   "metadata": {},
   "source": [
    "### Question 3\n",
    "\n",
    "* We need to deal with missing values for the column from Q1.\n",
    "* We have two options: fill it with 0 or with the mean of this variable.\n",
    "* Try both options. For each, train a linear regression model without regularization using the code from the lessons.\n",
    "* For computing the mean, use the training only!\n",
    "* Use the validation dataset to evaluate the models and compare the RMSE of each option.\n",
    "* Round the RMSE scores to 2 decimal digits using `round(score, 2)`\n",
    "* Which option gives better RMSE?\n",
    "\n",
    "Options:\n",
    "\n",
    "- With 0\n",
    "- With mean\n",
    "- Both are equally good"
   ]
  },
  {
   "cell_type": "code",
   "execution_count": 30,
   "id": "4e88ebbd-3272-4f7d-a40b-65e360c67b80",
   "metadata": {},
   "outputs": [],
   "source": [
    "def prepare_X(df, fill_na_value):\n",
    "    df_copy = df.copy()\n",
    "    df_copy = df_copy.fillna(fill_na_value)\n",
    "    return df_copy.values"
   ]
  },
  {
   "cell_type": "code",
   "execution_count": 31,
   "id": "65b568ca-7a8c-4e83-bfef-a895d278dac0",
   "metadata": {},
   "outputs": [],
   "source": [
    "def train_linear_regression(X, y):\n",
    "    ones = np.ones(X.shape[0])\n",
    "    X = np.column_stack([ones, X])\n",
    "\n",
    "    XTX = X.T.dot(X)\n",
    "    XTX_inv = np.linalg.inv(XTX)\n",
    "    w = XTX_inv.dot(X.T).dot(y)\n",
    "    \n",
    "    return w[0], w[1:]"
   ]
  },
  {
   "cell_type": "code",
   "execution_count": 32,
   "id": "7daf1a18-c8f5-4bf4-8cf8-3e8f779ba76c",
   "metadata": {},
   "outputs": [
    {
     "data": {
      "text/plain": [
       "(np.float64(676.8954853003862),\n",
       " array([ 43.70681555,   0.86506867, -36.10399833]))"
      ]
     },
     "execution_count": 32,
     "metadata": {},
     "output_type": "execute_result"
    }
   ],
   "source": [
    "# Option 1: Fill the missing values with 0\n",
    "X_train = prepare_X(df_train, fill_na_value=0)\n",
    "\n",
    "# Train a linear regression model without regularization\n",
    "w0, w = train_linear_regression(X_train, y_train)\n",
    "w0, w"
   ]
  },
  {
   "cell_type": "code",
   "execution_count": 33,
   "id": "c5ce696f-a4a9-40f9-93c8-2aa7b4d1df0b",
   "metadata": {},
   "outputs": [
    {
     "data": {
      "text/plain": [
       "array([2377.35987681,  398.02076576, 2435.12627415, ..., 1255.89731808,\n",
       "       1313.66371541, 1313.66371541])"
      ]
     },
     "execution_count": 33,
     "metadata": {},
     "output_type": "execute_result"
    }
   ],
   "source": [
    "y_pred = w0 + X_train.dot(w)\n",
    "y_pred"
   ]
  },
  {
   "cell_type": "code",
   "execution_count": 34,
   "id": "0ce5fe22-31ea-4e47-b048-8e35604d3b39",
   "metadata": {},
   "outputs": [
    {
     "data": {
      "image/png": "[encoded data removed]",
      "text/plain": [
       "<Figure size 600x400 with 1 Axes>"
      ]
     },
     "metadata": {},
     "output_type": "display_data"
    }
   ],
   "source": [
    "plt.figure(figsize=(6, 4))\n",
    "\n",
    "sns.histplot(y_pred, label='prediction', color='red', alpha=0.5, bins=50)\n",
    "sns.histplot(y_train, label='target', color='blue',  alpha=0.5, bins=50)\n",
    "plt.legend()\n",
    "\n",
    "plt.ylabel('Frequency')\n",
    "plt.xlabel('Final Price')\n",
    "plt.title('Predictions vs actual distribution on train dataset')\n",
    "\n",
    "plt.show()"
   ]
  },
  {
   "cell_type": "code",
   "execution_count": 35,
   "id": "ee944317-5ae5-480e-a585-58b51d06f45f",
   "metadata": {},
   "outputs": [],
   "source": [
    "def rmse(y, y_pred):\n",
    "    se = (y - y_pred) ** 2\n",
    "    mse = se.mean()\n",
    "    return np.sqrt(mse)"
   ]
  },
  {
   "cell_type": "code",
   "execution_count": 36,
   "id": "b7487a2b-1a8c-435c-8b9f-836259d612c7",
   "metadata": {},
   "outputs": [
    {
     "data": {
      "text/plain": [
       "np.float64(602.39)"
      ]
     },
     "execution_count": 36,
     "metadata": {},
     "output_type": "execute_result"
    }
   ],
   "source": [
    "train_score_with_0 = round(rmse(y_train, y_pred), 2)\n",
    "train_score_with_0"
   ]
  },
  {
   "cell_type": "code",
   "execution_count": 37,
   "id": "dd5d40b4-d332-4b33-9bc7-581e83fe5d4e",
   "metadata": {},
   "outputs": [],
   "source": [
    "# Use the validation dataset to evaluate the model\n",
    "X_val = prepare_X(df_val, fill_na_value=0)\n",
    "y_pred = w0 + X_val.dot(w)"
   ]
  },
  {
   "cell_type": "code",
   "execution_count": 38,
   "id": "80b1fd78-ae76-4195-90e8-d75c73918f29",
   "metadata": {},
   "outputs": [
    {
     "data": {
      "image/png": "[encoded data removed]",
      "text/plain": [
       "<Figure size 600x400 with 1 Axes>"
      ]
     },
     "metadata": {},
     "output_type": "display_data"
    }
   ],
   "source": [
    "plt.figure(figsize=(6, 4))\n",
    "\n",
    "sns.histplot(y_pred, label='prediction', color='red', alpha=0.5, bins=50)\n",
    "sns.histplot(y_val, label='target', color='blue',  alpha=0.5, bins=50)\n",
    "plt.legend()\n",
    "\n",
    "plt.ylabel('Frequency')\n",
    "plt.xlabel('Final Price')\n",
    "plt.title('Predictions vs actual distribution on validation dataset')\n",
    "\n",
    "plt.show()"
   ]
  },
  {
   "cell_type": "code",
   "execution_count": 39,
   "id": "13792660-5295-4bf9-963c-777214b186f9",
   "metadata": {},
   "outputs": [
    {
     "data": {
      "text/plain": [
       "np.float64(597.36)"
      ]
     },
     "execution_count": 39,
     "metadata": {},
     "output_type": "execute_result"
    }
   ],
   "source": [
    "val_score_with_0 = round(rmse(y_val, y_pred), 2)\n",
    "val_score_with_0 "
   ]
  },
  {
   "cell_type": "code",
   "execution_count": 40,
   "id": "17cc508f-3230-48f7-a530-f48720cf56c8",
   "metadata": {},
   "outputs": [
    {
     "data": {
      "text/plain": [
       "np.float64(15.163534416086618)"
      ]
     },
     "execution_count": 40,
     "metadata": {},
     "output_type": "execute_result"
    }
   ],
   "source": [
    "# Compute the mean using the train dataset\n",
    "mean = df_train.screen.mean()\n",
    "mean"
   ]
  },
  {
   "cell_type": "code",
   "execution_count": 41,
   "id": "8daf7a3b-7347-43a0-9d13-982f91da2e8f",
   "metadata": {},
   "outputs": [
    {
     "data": {
      "text/plain": [
       "(np.float64(808.9159907333465),\n",
       " array([ 43.90774584,   0.87135236, -45.18273312]))"
      ]
     },
     "execution_count": 41,
     "metadata": {},
     "output_type": "execute_result"
    }
   ],
   "source": [
    "# Option 2: Fill the missing values with the mean of screen variable\n",
    "X_train = prepare_X(df_train, fill_na_value=mean)\n",
    "\n",
    "# Train a linear regression model without regularization\n",
    "w0, w = train_linear_regression(X_train, y_train)\n",
    "w0, w"
   ]
  },
  {
   "cell_type": "code",
   "execution_count": 42,
   "id": "219e4fac-d459-4cdb-bf30-658dc6aa6f3a",
   "metadata": {},
   "outputs": [
    {
     "data": {
      "text/plain": [
       "array([2380.46558232,  403.23698821, 2452.75795532, ..., 1252.72169651,\n",
       "       1325.01406951, 1325.01406951])"
      ]
     },
     "execution_count": 42,
     "metadata": {},
     "output_type": "execute_result"
    }
   ],
   "source": [
    "y_pred = w0 + X_train.dot(w)\n",
    "y_pred"
   ]
  },
  {
   "cell_type": "code",
   "execution_count": 43,
   "id": "675132dd-39eb-4cc6-a7ed-bee9a29cb38f",
   "metadata": {},
   "outputs": [
    {
     "data": {
      "image/png": "[encoded data removed]",
      "text/plain": [
       "<Figure size 600x400 with 1 Axes>"
      ]
     },
     "metadata": {},
     "output_type": "display_data"
    }
   ],
   "source": [
    "plt.figure(figsize=(6, 4))\n",
    "\n",
    "sns.histplot(y_pred, label='prediction', color='red', alpha=0.5, bins=50)\n",
    "sns.histplot(y_train, label='target', color='blue',  alpha=0.5, bins=50)\n",
    "plt.legend()\n",
    "\n",
    "plt.ylabel('Frequency')\n",
    "plt.xlabel('Final Price')\n",
    "plt.title('Predictions vs actual distribution on train dataset')\n",
    "\n",
    "plt.show()"
   ]
  },
  {
   "cell_type": "code",
   "execution_count": 44,
   "id": "35c634f4-6a9a-4e8b-892c-00245062d29d",
   "metadata": {},
   "outputs": [
    {
     "data": {
      "text/plain": [
       "np.float64(602.18)"
      ]
     },
     "execution_count": 44,
     "metadata": {},
     "output_type": "execute_result"
    }
   ],
   "source": [
    "train_score_with_mean = round(rmse(y_train, y_pred), 2)\n",
    "train_score_with_mean"
   ]
  },
  {
   "cell_type": "code",
   "execution_count": 45,
   "id": "5785f9a2-14f2-48c2-bdb3-8f9c97d3428e",
   "metadata": {},
   "outputs": [],
   "source": [
    "# Use the validation dataset to evaluate the model\n",
    "X_val = prepare_X(df_val, fill_na_value=mean)\n",
    "y_pred = w0 + X_val.dot(w)"
   ]
  },
  {
   "cell_type": "code",
   "execution_count": 46,
   "id": "9c575488-f06f-46c7-82c6-f3053c8b92e7",
   "metadata": {},
   "outputs": [
    {
     "data": {
      "image/png": "[encoded data removed]",
      "text/plain": [
       "<Figure size 600x400 with 1 Axes>"
      ]
     },
     "metadata": {},
     "output_type": "display_data"
    }
   ],
   "source": [
    "plt.figure(figsize=(6, 4))\n",
    "\n",
    "sns.histplot(y_pred, label='prediction', color='red', alpha=0.5, bins=50)\n",
    "sns.histplot(y_val, label='target', color='blue',  alpha=0.5, bins=50)\n",
    "plt.legend()\n",
    "\n",
    "plt.ylabel('Frequency')\n",
    "plt.xlabel('Final Price')\n",
    "plt.title('Predictions vs actual distribution on validation dataset')\n",
    "\n",
    "plt.show()"
   ]
  },
  {
   "cell_type": "code",
   "execution_count": 47,
   "id": "6d28bf78-5c86-44f3-8d05-5c16d7c33bf1",
   "metadata": {},
   "outputs": [
    {
     "data": {
      "text/plain": [
       "np.float64(600.27)"
      ]
     },
     "execution_count": 47,
     "metadata": {},
     "output_type": "execute_result"
    }
   ],
   "source": [
    "val_score_with_mean = round(rmse(y_val, y_pred), 2)\n",
    "val_score_with_mean "
   ]
  },
  {
   "cell_type": "code",
   "execution_count": 48,
   "id": "f4993291-2a14-45f3-b75a-68c6db26c054",
   "metadata": {},
   "outputs": [
    {
     "name": "stdout",
     "output_type": "stream",
     "text": [
      "Which option gives better RMSE? With 0\n",
      "RMSE score: 597.36\n"
     ]
    }
   ],
   "source": [
    "# Compare the RMSE of each option\n",
    "if val_score_with_0 < val_score_with_mean:\n",
    "    print('Which option gives better RMSE? With 0\\nRMSE score:', val_score_with_0)\n",
    "elif val_score_with_0 > val_score_with_mean:\n",
    "    print('Which option gives better RMSE? With mean\\nRMSE score:', val_score_with_mean)\n",
    "else:\n",
    "    print('Which option gives better RMSE? Both are equally good\\nRMSE score:', val_score_with_0, val_score_with_mean)"
   ]
  },
  {
   "cell_type": "markdown",
   "id": "64e2cce0-5837-407f-95c3-f64957b9ad99",
   "metadata": {},
   "source": [
    "**Ans:** Filling the missing values with 0 gives better RMSE."
   ]
  },
  {
   "cell_type": "markdown",
   "id": "15faa0ab-6e80-4ee9-8bfb-85d92a8769e8",
   "metadata": {},
   "source": [
    "### Question 4\n",
    "\n",
    "* Now let's train a regularized linear regression.\n",
    "* For this question, fill the NAs with 0. \n",
    "* Try different values of `r` from this list: `[0, 0.01, 0.1, 1, 5, 10, 100]`.\n",
    "* Use RMSE to evaluate the model on the validation dataset.\n",
    "* Round the RMSE scores to 2 decimal digits.\n",
    "* Which `r` gives the best RMSE?\n",
    "\n",
    "If there are multiple options, select the smallest `r`.\n",
    "\n",
    "Options:\n",
    "\n",
    "- 0\n",
    "- 0.01\n",
    "- 1\n",
    "- 10\n",
    "- 100"
   ]
  },
  {
   "cell_type": "code",
   "execution_count": 49,
   "id": "51f1d7f3-b3e4-4384-b6a9-2350366cdf76",
   "metadata": {},
   "outputs": [],
   "source": [
    "def train_linear_regression_reg(X, y, r=0.0):\n",
    "    ones = np.ones(X.shape[0])\n",
    "    X = np.column_stack([ones, X])\n",
    "\n",
    "    XTX = X.T.dot(X)\n",
    "    reg = r * np.eye(XTX.shape[0])\n",
    "    XTX = XTX + reg\n",
    "\n",
    "    XTX_inv = np.linalg.inv(XTX)\n",
    "    w = XTX_inv.dot(X.T).dot(y)\n",
    "    \n",
    "    return w[0], w[1:]"
   ]
  },
  {
   "cell_type": "code",
   "execution_count": 50,
   "id": "11cad066-d5a8-447d-beb1-76e7258d2f6d",
   "metadata": {},
   "outputs": [],
   "source": [
    "# Try different values of r from this list\n",
    "r_list = [0, 0.01, 0.1, 1, 5, 10, 100]"
   ]
  },
  {
   "cell_type": "code",
   "execution_count": 51,
   "id": "0a25b3f3-0ee5-4a1d-bcff-638094c19104",
   "metadata": {},
   "outputs": [
    {
     "name": "stdout",
     "output_type": "stream",
     "text": [
      "r = 0, RMSE (Validation dataset) = 597.36\n",
      "r = 0.01, RMSE (Validation dataset) = 597.36\n",
      "r = 0.1, RMSE (Validation dataset) = 597.35\n",
      "r = 1, RMSE (Validation dataset) = 597.21\n",
      "r = 5, RMSE (Validation dataset) = 597.01\n",
      "r = 10, RMSE (Validation dataset) = 597.06\n",
      "r = 100, RMSE (Validation dataset) = 597.9\n"
     ]
    }
   ],
   "source": [
    "# Train a regularized linear regression model for each different values of r to evaluate the model\n",
    "result = {}\n",
    "X_train = prepare_X(df_train, fill_na_value=0)\n",
    "X_val = prepare_X(df_val, fill_na_value=0)\n",
    "for r in r_list:\n",
    "    w0, w = train_linear_regression_reg(X_train, y_train, r=r)\n",
    "    \n",
    "    # Evaluate the model on the validation dataset\n",
    "    y_pred = w0 + X_val.dot(w)\n",
    "    \n",
    "    # Compute the RMSE of this model\n",
    "    error = rmse(y_val, y_pred)\n",
    "    result[r] = round(error, 2)\n",
    "    print(f\"r = {r}, RMSE (Validation dataset) = {result[r]}\")"
   ]
  },
  {
   "cell_type": "code",
   "execution_count": 52,
   "id": "b1450fe3-c547-4d09-b27b-04769a92f088",
   "metadata": {},
   "outputs": [
    {
     "name": "stdout",
     "output_type": "stream",
     "text": [
      "Which r gives the best RMSE?  5\n"
     ]
    }
   ],
   "source": [
    "print(\"Which r gives the best RMSE? \", min(result, key=result.get))"
   ]
  },
  {
   "cell_type": "code",
   "execution_count": 53,
   "id": "d4db15b0-3d9a-4a16-be88-1611c40c594c",
   "metadata": {},
   "outputs": [
    {
     "name": "stdout",
     "output_type": "stream",
     "text": [
      "r = 10, RMSE (Validation dataset) = 597.06\n"
     ]
    }
   ],
   "source": [
    "# A list of available options to the question\n",
    "options = [0, 0.01, 1, 10, 100]\n",
    "\n",
    "def select_smallest_r_with_best_RMSE(options):\n",
    "    best_r = options[0]\n",
    "    min_error = result[options[0]]\n",
    "    for r, error in result.items():\n",
    "        if r in options:\n",
    "            if error < min_error:\n",
    "                min_error = error\n",
    "                best_r = r\n",
    "            elif error == min_error:\n",
    "                best_r = min(r, best_r)\n",
    "    return best_r, min_error\n",
    "\n",
    "# Select the closest solution to the question\n",
    "r, error = select_smallest_r_with_best_RMSE(options)\n",
    "print(f\"r = {r}, RMSE (Validation dataset) = {error}\")"
   ]
  },
  {
   "cell_type": "markdown",
   "id": "c82a763f-da66-4730-87d5-2c2e81044677",
   "metadata": {},
   "source": [
    "**Ans:** `r = 5` gives the best RMSE. However, `5` is not an available option for this question so the next closest to the solution would be `r = 10`. "
   ]
  },
  {
   "cell_type": "markdown",
   "id": "066d345a-1bbc-4321-a383-c1037f311e04",
   "metadata": {},
   "source": [
    "### Question 5 \n",
    "\n",
    "* We used seed 42 for splitting the data. Let's find out how selecting the seed influences our score.\n",
    "* Try different seed values: `[0, 1, 2, 3, 4, 5, 6, 7, 8, 9]`.\n",
    "* For each seed, do the train/validation/test split with 60%/20%/20% distribution.\n",
    "* Fill the missing values with 0 and train a model without regularization.\n",
    "* For each seed, evaluate the model on the validation dataset and collect the RMSE scores. \n",
    "* What's the standard deviation of all the scores? To compute the standard deviation, use `np.std`.\n",
    "* Round the result to 3 decimal digits (`round(std, 3)`)\n",
    "\n",
    "What's the value of std?\n",
    "\n",
    "- 19.176\n",
    "- 29.176\n",
    "- 39.176\n",
    "- 49.176\n",
    "\n",
    "> Note: Standard deviation shows how different the values are.\n",
    "> If it's low, then all values are approximately the same.\n",
    "> If it's high, the values are different. \n",
    "> If standard deviation of scores is low, then our model is *stable*."
   ]
  },
  {
   "cell_type": "code",
   "execution_count": 54,
   "id": "b1f764bb-8576-43bb-9de8-3293b4d073b3",
   "metadata": {},
   "outputs": [],
   "source": [
    "# A list of different seed values for selection\n",
    "seeds = [0, 1, 2, 3, 4, 5, 6, 7, 8, 9]\n",
    "\n",
    "n = len(df_filtered)\n",
    "# Size of validation dataset\n",
    "n_val = int(n * 0.2)\n",
    "# Size of test dataset\n",
    "n_test = int(n * 0.2)\n",
    "# Size of train dataset\n",
    "n_train = n - n_val - n_test\n",
    "\n",
    "errors = []\n",
    "\n",
    "for seed in seeds:\n",
    "    idx = np.arange(n)\n",
    "    \n",
    "    # Try different seed values\n",
    "    np.random.seed(seed)\n",
    "    np.random.shuffle(idx)\n",
    "\n",
    "    # Perform train/validation/test split with 60%/20%/20% distribution\n",
    "    df_train = df_filtered.iloc[idx[:n_train]]\n",
    "    df_val = df_filtered.iloc[idx[n_train:n_train+n_val]]\n",
    "    df_test = df_filtered.iloc[idx[n_train+n_val:]]\n",
    "\n",
    "    df_train = df_train.reset_index(drop=True)\n",
    "    df_val = df_val.reset_index(drop=True)\n",
    "    df_test = df_test.reset_index(drop=True)\n",
    "\n",
    "    y_train = df_train.final_price.values\n",
    "    y_val = df_val.final_price.values\n",
    "    y_test = df_test.final_price.values\n",
    "\n",
    "    del df_train['final_price']\n",
    "    del df_val['final_price']\n",
    "    del df_test['final_price']\n",
    "\n",
    "    # Fill the missing values with 0 and train a linear regression model without regularization\n",
    "    w0, w = train_linear_regression(prepare_X(df_train, fill_na_value=0), y_train)\n",
    "    \n",
    "    # Evaluate the model on the validation dataset\n",
    "    y_pred = w0 + prepare_X(df_val, fill_na_value=0).dot(w)\n",
    "    \n",
    "    # Collect the RMSE score of each model trained with a different seed value\n",
    "    errors.append(rmse(y_val, y_pred))"
   ]
  },
  {
   "cell_type": "code",
   "execution_count": 55,
   "id": "722a9dbf-2609-46d6-8983-d890ef0552a1",
   "metadata": {},
   "outputs": [
    {
     "name": "stdout",
     "output_type": "stream",
     "text": [
      "Seed: 0, RMSE (Validation dataset) = 565.4520868770983\n",
      "Seed: 1, RMSE (Validation dataset) = 636.7985423056728\n",
      "Seed: 2, RMSE (Validation dataset) = 588.9558697907958\n",
      "Seed: 3, RMSE (Validation dataset) = 597.8148920012524\n",
      "Seed: 4, RMSE (Validation dataset) = 571.9627915111038\n",
      "Seed: 5, RMSE (Validation dataset) = 573.2383256618933\n",
      "Seed: 6, RMSE (Validation dataset) = 647.343832840719\n",
      "Seed: 7, RMSE (Validation dataset) = 550.4398184485982\n",
      "Seed: 8, RMSE (Validation dataset) = 587.3335036169883\n",
      "Seed: 9, RMSE (Validation dataset) = 576.1017929433114\n"
     ]
    }
   ],
   "source": [
    "for i in range(len(seeds)):\n",
    "    print(f\"Seed: {seeds[i]}, RMSE (Validation dataset) = {errors[i]}\")"
   ]
  },
  {
   "cell_type": "code",
   "execution_count": 56,
   "id": "f9232899-ea40-4967-b39d-ace3fd82bc44",
   "metadata": {},
   "outputs": [
    {
     "data": {
      "text/plain": [
       "np.float64(29.176)"
      ]
     },
     "execution_count": 56,
     "metadata": {},
     "output_type": "execute_result"
    }
   ],
   "source": [
    "# Compute the standard deviation of all the scores and round the result to 3 decimal digits\n",
    "std = round(np.std(errors), 3)\n",
    "std"
   ]
  },
  {
   "cell_type": "markdown",
   "id": "d3c1bea6-ceae-4ef2-8d7e-e6a9e7b166c8",
   "metadata": {},
   "source": [
    "**Ans:** The value of std is `29.176`."
   ]
  },
  {
   "cell_type": "markdown",
   "id": "0b0bc5fb-9f1f-450f-b5b6-be48fe6db2a2",
   "metadata": {},
   "source": [
    "### Question 6\n",
    "\n",
    "* Split the dataset like previously, use seed 9.\n",
    "* Combine train and validation datasets.\n",
    "* Fill the missing values with 0 and train a model with `r=0.001`. \n",
    "* What's the RMSE on the test dataset?\n",
    "\n",
    "Options:\n",
    "\n",
    "- 598.60\n",
    "- 608.60\n",
    "- 618.60\n",
    "- 628.60"
   ]
  },
  {
   "cell_type": "code",
   "execution_count": 57,
   "id": "6718f805-b41a-4dcb-be85-f357a2a0bfec",
   "metadata": {},
   "outputs": [
    {
     "data": {
      "text/html": [
       "<div>\n",
       "<style scoped>\n",
       "    .dataframe tbody tr th:only-of-type {\n",
       "        vertical-align: middle;\n",
       "    }\n",
       "\n",
       "    .dataframe tbody tr th {\n",
       "        vertical-align: top;\n",
       "    }\n",
       "\n",
       "    .dataframe thead th {\n",
       "        text-align: right;\n",
       "    }\n",
       "</style>\n",
       "<table border=\"1\" class=\"dataframe\">\n",
       "  <thead>\n",
       "    <tr style=\"text-align: right;\">\n",
       "      <th></th>\n",
       "      <th>ram</th>\n",
       "      <th>storage</th>\n",
       "      <th>screen</th>\n",
       "    </tr>\n",
       "  </thead>\n",
       "  <tbody>\n",
       "    <tr>\n",
       "      <th>0</th>\n",
       "      <td>32</td>\n",
       "      <td>1000</td>\n",
       "      <td>15.6</td>\n",
       "    </tr>\n",
       "    <tr>\n",
       "      <th>1</th>\n",
       "      <td>8</td>\n",
       "      <td>512</td>\n",
       "      <td>13.3</td>\n",
       "    </tr>\n",
       "    <tr>\n",
       "      <th>2</th>\n",
       "      <td>8</td>\n",
       "      <td>512</td>\n",
       "      <td>15.6</td>\n",
       "    </tr>\n",
       "    <tr>\n",
       "      <th>3</th>\n",
       "      <td>32</td>\n",
       "      <td>1000</td>\n",
       "      <td>17.3</td>\n",
       "    </tr>\n",
       "    <tr>\n",
       "      <th>4</th>\n",
       "      <td>16</td>\n",
       "      <td>1000</td>\n",
       "      <td>16.0</td>\n",
       "    </tr>\n",
       "    <tr>\n",
       "      <th>...</th>\n",
       "      <td>...</td>\n",
       "      <td>...</td>\n",
       "      <td>...</td>\n",
       "    </tr>\n",
       "    <tr>\n",
       "      <th>427</th>\n",
       "      <td>16</td>\n",
       "      <td>512</td>\n",
       "      <td>14.0</td>\n",
       "    </tr>\n",
       "    <tr>\n",
       "      <th>428</th>\n",
       "      <td>16</td>\n",
       "      <td>512</td>\n",
       "      <td>13.3</td>\n",
       "    </tr>\n",
       "    <tr>\n",
       "      <th>429</th>\n",
       "      <td>8</td>\n",
       "      <td>256</td>\n",
       "      <td>15.6</td>\n",
       "    </tr>\n",
       "    <tr>\n",
       "      <th>430</th>\n",
       "      <td>16</td>\n",
       "      <td>512</td>\n",
       "      <td>15.6</td>\n",
       "    </tr>\n",
       "    <tr>\n",
       "      <th>431</th>\n",
       "      <td>16</td>\n",
       "      <td>512</td>\n",
       "      <td>15.6</td>\n",
       "    </tr>\n",
       "  </tbody>\n",
       "</table>\n",
       "<p>1728 rows × 3 columns</p>\n",
       "</div>"
      ],
      "text/plain": [
       "     ram  storage  screen\n",
       "0     32     1000    15.6\n",
       "1      8      512    13.3\n",
       "2      8      512    15.6\n",
       "3     32     1000    17.3\n",
       "4     16     1000    16.0\n",
       "..   ...      ...     ...\n",
       "427   16      512    14.0\n",
       "428   16      512    13.3\n",
       "429    8      256    15.6\n",
       "430   16      512    15.6\n",
       "431   16      512    15.6\n",
       "\n",
       "[1728 rows x 3 columns]"
      ]
     },
     "execution_count": 57,
     "metadata": {},
     "output_type": "execute_result"
    }
   ],
   "source": [
    "# Perform train/validation/test split with 60%/20%/20% distribution\n",
    "n = len(df_filtered)\n",
    "# Size of validation dataset\n",
    "n_val = int(n * 0.2)\n",
    "# Size of test dataset\n",
    "n_test = int(n * 0.2)\n",
    "# Size of train dataset\n",
    "n_train = n - n_val - n_test\n",
    "\n",
    "idx = np.arange(n)\n",
    "np.random.seed(9)\n",
    "np.random.shuffle(idx)\n",
    "\n",
    "df_train = df_filtered.iloc[idx[:n_train]]\n",
    "df_val = df_filtered.iloc[idx[n_train:n_train+n_val]]\n",
    "df_test = df_filtered.iloc[idx[n_train+n_val:]]\n",
    "\n",
    "df_train = df_train.reset_index(drop=True)\n",
    "df_val = df_val.reset_index(drop=True)\n",
    "df_test = df_test.reset_index(drop=True)\n",
    "\n",
    "y_train = df_train.final_price.values\n",
    "y_val = df_val.final_price.values\n",
    "y_test = df_test.final_price.values\n",
    "\n",
    "del df_train['final_price']\n",
    "del df_val['final_price']\n",
    "del df_test['final_price']\n",
    "\n",
    "# Combine train and validation datasets\n",
    "df_combined = pd.concat([df_train, df_val])\n",
    "df_combined"
   ]
  },
  {
   "cell_type": "code",
   "execution_count": 58,
   "id": "831526ca-99ad-407f-a827-68d194a40f86",
   "metadata": {},
   "outputs": [
    {
     "data": {
      "text/plain": [
       "array([1592.89, 1349.  ,  549.  , ...,  849.  ,  711.94,  779.01])"
      ]
     },
     "execution_count": 58,
     "metadata": {},
     "output_type": "execute_result"
    }
   ],
   "source": [
    "y_combined = np.concatenate([y_train, y_val])\n",
    "y_combined"
   ]
  },
  {
   "cell_type": "code",
   "execution_count": 59,
   "id": "47ba9393-62b7-4ebc-90bd-085ceff573df",
   "metadata": {},
   "outputs": [
    {
     "data": {
      "text/plain": [
       "(1728, 1728)"
      ]
     },
     "execution_count": 59,
     "metadata": {},
     "output_type": "execute_result"
    }
   ],
   "source": [
    "# Verify the size adds up\n",
    "len(y_combined), n_train + n_val"
   ]
  },
  {
   "cell_type": "code",
   "execution_count": 60,
   "id": "7d099be0-aa49-4f94-8d4f-79b19e96ed59",
   "metadata": {},
   "outputs": [
    {
     "data": {
      "text/plain": [
       "np.float64(608.6099822049573)"
      ]
     },
     "execution_count": 60,
     "metadata": {},
     "output_type": "execute_result"
    }
   ],
   "source": [
    "# Fill the missing values with 0 and train a regularized linear regression model with r = 0.001\n",
    "w0, w = train_linear_regression_reg(prepare_X(df_combined, fill_na_value=0), y_combined, r=0.001)\n",
    "\n",
    "# Evaluate the model on the test dataset\n",
    "y_pred = w0 + prepare_X(df_test, fill_na_value=0).dot(w)\n",
    "\n",
    "# Compute the RMSE\n",
    "test_rmse = rmse(y_test, y_pred)\n",
    "test_rmse"
   ]
  },
  {
   "cell_type": "markdown",
   "id": "d92bf700-c63e-4934-808b-c739ada00f92",
   "metadata": {},
   "source": [
    "**Ans:** The RMSE is `608.60` on the test dataset. "
   ]
  },
  {
   "cell_type": "markdown",
   "id": "c7e47fcc-7214-4010-9002-ae6b2e1c4dfb",
   "metadata": {},
   "source": [
    "## Submit the results\n",
    "\n",
    "* Submit your results here: https://courses.datatalks.club/ml-zoomcamp-2024/homework/hw02\n",
    "* If your answer doesn't match options exactly, select the closest one"
   ]
  }
 ],
 "metadata": {
  "kernelspec": {
   "display_name": "Python 3 (ipykernel)",
   "language": "python",
   "name": "python3"
  },
  "language_info": {
   "codemirror_mode": {
    "name": "ipython",
    "version": 3
   },
   "file_extension": ".py",
   "mimetype": "text/x-python",
   "name": "python",
   "nbconvert_exporter": "python",
   "pygments_lexer": "ipython3",
   "version": "3.11.3"
  }
 },
 "nbformat": 4,
 "nbformat_minor": 5
}
