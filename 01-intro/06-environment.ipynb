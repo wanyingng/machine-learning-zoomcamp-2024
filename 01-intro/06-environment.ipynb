{
 "cells": [
  {
   "cell_type": "markdown",
   "id": "9843c6ea-741c-405c-a135-a8bf617e82b5",
   "metadata": {},
   "source": [
    "## Setting up the Environment\n",
    "\n",
    "In this notebook, we'll verify the environment setup with the requirements in [06-environment.md](../01-intro/06-environment.md).\n",
    "\n",
    "Requirements:\n",
    "- Python 3.11\n",
    "- NumPy, Pandas, and Scikit-Learn (latest available versions as of 1 Oct 2024)\n",
    "- Matplotlib and Seaborn\n",
    "- Jupyter notebooks\n",
    "\n",
    "In the terminal, run this command to create the virtual environment.\n",
    "\n",
    "```bash\n",
    "python3.11 -m venv .venv\n",
    "```\n",
    "\n",
    "Activate it:\n",
    "\n",
    "```bash\n",
    ".\\.venv\\Scripts\\activate\n",
    "```\n",
    "\n",
    "Installing libraries.\n",
    "\n",
    "```bash\n",
    "pip install numpy pandas scikit-learn seaborn jupyter\n",
    "```"
   ]
  },
  {
   "cell_type": "code",
   "execution_count": 1,
   "id": "2a5248da-0f8a-439b-8e2c-323613eccf5a",
   "metadata": {},
   "outputs": [
    {
     "name": "stdout",
     "output_type": "stream",
     "text": [
      "Python 3.11.3\n",
      "Selected Jupyter core packages...\n",
      "IPython          : 8.27.0\n",
      "ipykernel        : 6.29.5\n",
      "ipywidgets       : 8.1.5\n",
      "jupyter_client   : 8.6.3\n",
      "jupyter_core     : 5.7.2\n",
      "jupyter_server   : 2.14.2\n",
      "jupyterlab       : 4.2.5\n",
      "nbclient         : 0.10.0\n",
      "nbconvert        : 7.16.4\n",
      "nbformat         : 5.10.4\n",
      "notebook         : 7.2.2\n",
      "qtconsole        : not installed\n",
      "traitlets        : 5.14.3\n"
     ]
    }
   ],
   "source": [
    "# Check python version\n",
    "!python --version\n",
    "# Check jupyter version\n",
    "!jupyter --version"
   ]
  },
  {
   "cell_type": "code",
   "execution_count": 2,
   "id": "99c8e11f-1c7d-413a-985f-fd7a232a55de",
   "metadata": {},
   "outputs": [
    {
     "name": "stdout",
     "output_type": "stream",
     "text": [
      "2.1.1\n",
      "['C:\\\\Users\\\\ASUS\\\\Documents\\\\machine-learning-zoomcamp-2024\\\\.venv\\\\Lib\\\\site-packages\\\\numpy']\n"
     ]
    }
   ],
   "source": [
    "# Check numpy version\n",
    "import numpy as np\n",
    "print(np.__version__)\n",
    "print(np.__path__)"
   ]
  },
  {
   "cell_type": "code",
   "execution_count": 3,
   "id": "51f17f72-3c12-4b36-854e-f14796748be3",
   "metadata": {},
   "outputs": [
    {
     "name": "stdout",
     "output_type": "stream",
     "text": [
      "2.2.3\n",
      "['C:\\\\Users\\\\ASUS\\\\Documents\\\\machine-learning-zoomcamp-2024\\\\.venv\\\\Lib\\\\site-packages\\\\pandas']\n"
     ]
    }
   ],
   "source": [
    "# Check pandas version\n",
    "import pandas as pd\n",
    "print(pd.__version__)\n",
    "print(pd.__path__)"
   ]
  },
  {
   "cell_type": "code",
   "execution_count": 4,
   "id": "cab9a464-5313-4182-ae34-8a5813349662",
   "metadata": {},
   "outputs": [
    {
     "name": "stdout",
     "output_type": "stream",
     "text": [
      "0.13.2\n",
      "['C:\\\\Users\\\\ASUS\\\\Documents\\\\machine-learning-zoomcamp-2024\\\\.venv\\\\Lib\\\\site-packages\\\\seaborn']\n",
      "3.9.2\n",
      "['C:\\\\Users\\\\ASUS\\\\Documents\\\\machine-learning-zoomcamp-2024\\\\.venv\\\\Lib\\\\site-packages\\\\matplotlib']\n"
     ]
    }
   ],
   "source": [
    "# Check seaborn version\n",
    "import seaborn as sb\n",
    "print(sb.__version__)\n",
    "print(sb.__path__)\n",
    "\n",
    "# Check matplotlib version\n",
    "import matplotlib\n",
    "print(matplotlib.__version__)\n",
    "print(matplotlib.__path__)"
   ]
  },
  {
   "cell_type": "code",
   "execution_count": 5,
   "id": "ef6559d6-413a-4eff-a561-b35ce0fb5991",
   "metadata": {},
   "outputs": [
    {
     "name": "stdout",
     "output_type": "stream",
     "text": [
      "1.5.2\n",
      "['C:\\\\Users\\\\ASUS\\\\Documents\\\\machine-learning-zoomcamp-2024\\\\.venv\\\\Lib\\\\site-packages\\\\sklearn']\n"
     ]
    }
   ],
   "source": [
    "# Check scikit-learn version\n",
    "import sklearn\n",
    "print(sklearn.__version__)\n",
    "print(sklearn.__path__)"
   ]
  }
 ],
 "metadata": {
  "kernelspec": {
   "display_name": "Python 3 (ipykernel)",
   "language": "python",
   "name": "python3"
  },
  "language_info": {
   "codemirror_mode": {
    "name": "ipython",
    "version": 3
   },
   "file_extension": ".py",
   "mimetype": "text/x-python",
   "name": "python",
   "nbconvert_exporter": "python",
   "pygments_lexer": "ipython3",
   "version": "3.11.3"
  }
 },
 "nbformat": 4,
 "nbformat_minor": 5
}
