{
 "cells": [
  {
   "cell_type": "markdown",
   "id": "502da6a2",
   "metadata": {},
   "source": [
    "# Machine Learning Zoomcamp\n",
    "\n",
    "\n",
    "## 1.7 Introduction to NumPy\n",
    "\n",
    "\n",
    "Plan:\n",
    "\n",
    "* Creating arrays\n",
    "* Multi-dimensional arrays\n",
    "* Randomly generated arrays\n",
    "* Element-wise operations\n",
    "    * Comparison operations\n",
    "    * Logical operations\n",
    "* Summarizing operations"
   ]
  },
  {
   "cell_type": "markdown",
   "id": "a8138a3f-1ab9-4fdd-81a7-860cd6eb9eeb",
   "metadata": {},
   "source": [
    "## Understanding Numpy: A Simple Introduction\n",
    "\n",
    "Numpy, short for Numerical Python, is a powerful Python library that provides support for large, multi-dimensional arrays and matrices, along with a wide range of mathematical functions to operate on these arrays. By importing the Numpy module as `np`, we gain access to all of its functionality and can easily manipulate arrays in our code. \n",
    "\n",
    "One of the key features of Numpy is its ability to perform vectorized operations, which allows for faster and more efficient computations. Instead of looping over individual elements of an array, we can perform operations on the entire array at once. This not only simplifies our code but also improves its performance.\n",
    "\n",
    "Numpy also provides numerous functions for creating arrays of different shapes and sizes. For example, we can use the `np.array()` function to create a new array from a list or a tuple. We can specify the data type of the array elements using the `dtype` parameter.\n",
    "\n",
    "In addition to creating arrays, Numpy offers a wide range of functions for performing various mathematical operations. We can easily perform basic arithmetic operations, such as addition, subtraction, multiplication, and division, on Numpy arrays. Numpy also provides functions for calculating statistics, finding maximum and minimum values, and performing linear algebra operations. \n",
    "\n",
    "In this article, we'll provide a straightforward explanation of Numpy concepts and how to use them."
   ]
  },
  {
   "cell_type": "markdown",
   "id": "01ccb76c-f94a-402a-a63c-db2972c9543e",
   "metadata": {},
   "source": [
    "### Importing Numpy\n",
    "\n",
    "Before diving into Numpy's capabilities, we need to import it. Conventionally, we import Numpy with the alias `np`, making it easier to reference its functions:"
   ]
  },
  {
   "cell_type": "code",
   "execution_count": 1,
   "id": "95aa5b76",
   "metadata": {},
   "outputs": [],
   "source": [
    "# Import numpy package and give it an alias, \"np\", as convention. \n",
    "import numpy as np"
   ]
  },
  {
   "cell_type": "code",
   "execution_count": 2,
   "id": "aa693c84",
   "metadata": {},
   "outputs": [
    {
     "data": {
      "text/plain": [
       "<module 'numpy' from 'C:\\\\Users\\\\ASUS\\\\Documents\\\\machine-learning-zoomcamp-2024\\\\.venv\\\\Lib\\\\site-packages\\\\numpy\\\\__init__.py'>"
      ]
     },
     "execution_count": 2,
     "metadata": {},
     "output_type": "execute_result"
    }
   ],
   "source": [
    "np"
   ]
  },
  {
   "cell_type": "markdown",
   "id": "1e3ff2dc",
   "metadata": {},
   "source": [
    "### Creating arrays\n",
    "\n",
    "Arrays are the building blocks of Numpy, and they can be thought of as lists but with enhanced features. "
   ]
  },
  {
   "cell_type": "markdown",
   "id": "4547f490-8b72-4da0-960a-78d0fd5b2c34",
   "metadata": {},
   "source": [
    "#### Creating Arrays with Zeros, Ones, or Constants\n",
    "\n",
    "You can create arrays filled with zeros, ones, or any constant using `np.zeros()`, `np.ones()`, and `np.full()`:"
   ]
  },
  {
   "cell_type": "code",
   "execution_count": 3,
   "id": "783c3362",
   "metadata": {},
   "outputs": [
    {
     "data": {
      "text/plain": [
       "array([0., 0., 0., 0., 0., 0., 0., 0., 0., 0.])"
      ]
     },
     "execution_count": 3,
     "metadata": {},
     "output_type": "execute_result"
    }
   ],
   "source": [
    "# Creates an array of zeros with the specified size in argument. \n",
    "# np.zeros(size)\n",
    "\n",
    "np.zeros(10)"
   ]
  },
  {
   "cell_type": "code",
   "execution_count": 4,
   "id": "2fc75d89",
   "metadata": {},
   "outputs": [
    {
     "data": {
      "text/plain": [
       "array([1., 1., 1., 1., 1., 1., 1., 1., 1., 1.])"
      ]
     },
     "execution_count": 4,
     "metadata": {},
     "output_type": "execute_result"
    }
   ],
   "source": [
    "# Fill the array with ones instead of zeros.\n",
    "# np.ones(size)\n",
    "\n",
    "np.ones(10)"
   ]
  },
  {
   "cell_type": "code",
   "execution_count": 5,
   "id": "5183483b",
   "metadata": {},
   "outputs": [
    {
     "data": {
      "text/plain": [
       "array([2.5, 2.5, 2.5, 2.5, 2.5, 2.5, 2.5, 2.5, 2.5, 2.5])"
      ]
     },
     "execution_count": 5,
     "metadata": {},
     "output_type": "execute_result"
    }
   ],
   "source": [
    "# Fill the array with some arbitrary value.\n",
    "# np.full(size, value)\n",
    "\n",
    "np.full(10, 2.5)"
   ]
  },
  {
   "cell_type": "markdown",
   "id": "b01fb75e-7d0e-4f01-8437-94e4549add7e",
   "metadata": {},
   "source": [
    "#### Converting Lists to Arrays\n",
    "\n",
    "To convert a Python list into a Numpy array, you can use `np.array()`:"
   ]
  },
  {
   "cell_type": "code",
   "execution_count": 6,
   "id": "fe81664d",
   "metadata": {},
   "outputs": [
    {
     "data": {
      "text/plain": [
       "array([ 1,  2,  3,  5,  7, 12])"
      ]
     },
     "execution_count": 6,
     "metadata": {},
     "output_type": "execute_result"
    }
   ],
   "source": [
    "# Create an array in numpy by passing in a list.\n",
    "a = np.array([1, 2, 3, 5, 7, 12])\n",
    "a"
   ]
  },
  {
   "cell_type": "code",
   "execution_count": 7,
   "id": "dee26035",
   "metadata": {},
   "outputs": [],
   "source": [
    "# Array indexing.\n",
    "# Retrieve the 3rd element in the array and replace it with 10.\n",
    "\n",
    "a[2] = 10"
   ]
  },
  {
   "cell_type": "code",
   "execution_count": 8,
   "id": "0cf95a0f",
   "metadata": {},
   "outputs": [
    {
     "data": {
      "text/plain": [
       "array([ 1,  2, 10,  5,  7, 12])"
      ]
     },
     "execution_count": 8,
     "metadata": {},
     "output_type": "execute_result"
    }
   ],
   "source": [
    "a"
   ]
  },
  {
   "cell_type": "markdown",
   "id": "389e06cb-4c20-436c-b892-799f89d2c760",
   "metadata": {},
   "source": [
    "#### Generating Ranges of Numbers\n",
    "\n",
    "Numpy provides functions for generating arrays of sequential numbers. For example:"
   ]
  },
  {
   "cell_type": "code",
   "execution_count": 9,
   "id": "11ca9d93-04bc-476f-9cfe-dc6d0ba1b3be",
   "metadata": {},
   "outputs": [
    {
     "data": {
      "text/plain": [
       "array([0, 1, 2, 3, 4, 5, 6, 7, 8, 9])"
      ]
     },
     "execution_count": 9,
     "metadata": {},
     "output_type": "execute_result"
    }
   ],
   "source": [
    "# Create an array with values ranging from 0 to 9.\n",
    "# arange() function is similar to range() function except it returns \n",
    "# a numpy array instead of an iterator/generator-like object.\n",
    "np.arange(10)"
   ]
  },
  {
   "cell_type": "code",
   "execution_count": 10,
   "id": "9a579406",
   "metadata": {},
   "outputs": [
    {
     "data": {
      "text/plain": [
       "array([3, 4, 5, 6, 7, 8, 9])"
      ]
     },
     "execution_count": 10,
     "metadata": {},
     "output_type": "execute_result"
    }
   ],
   "source": [
    "# Create an array with values ranging from 3 to 9.\n",
    "np.arange(3, 10)"
   ]
  },
  {
   "cell_type": "markdown",
   "id": "42ac1709-5b31-4b80-8255-c59a77296ca4",
   "metadata": {},
   "source": [
    "#### Creating Arrays with Linear Spacing\n",
    "\n",
    "`np.linspace()` creates arrays with evenly spaced numbers within a specified range:"
   ]
  },
  {
   "cell_type": "code",
   "execution_count": 11,
   "id": "96260ddb",
   "metadata": {},
   "outputs": [
    {
     "data": {
      "text/plain": [
       "array([  0.,  10.,  20.,  30.,  40.,  50.,  60.,  70.,  80.,  90., 100.])"
      ]
     },
     "execution_count": 11,
     "metadata": {},
     "output_type": "execute_result"
    }
   ],
   "source": [
    "# Create an array of size determined by the third parameter, filled with \n",
    "# values between the first parameter and the second parameter.\n",
    "# np.linspace(start_val, end_val, size)\n",
    "\n",
    "np.linspace(0, 100, 11)"
   ]
  },
  {
   "cell_type": "code",
   "execution_count": 12,
   "id": "24b135df-8fe9-463f-b94d-cce550b788fa",
   "metadata": {},
   "outputs": [
    {
     "data": {
      "text/plain": [
       "array([0.        , 0.11111111, 0.22222222, 0.33333333, 0.44444444,\n",
       "       0.55555556, 0.66666667, 0.77777778, 0.88888889, 1.        ])"
      ]
     },
     "execution_count": 12,
     "metadata": {},
     "output_type": "execute_result"
    }
   ],
   "source": [
    "np.linspace(0, 1, 10)"
   ]
  },
  {
   "cell_type": "markdown",
   "id": "37f36946",
   "metadata": {},
   "source": [
    "## Multi-dimensional arrays\n",
    "\n",
    "Numpy can handle multi-dimensional arrays, often referred to as matrices. Here are some examples:"
   ]
  },
  {
   "cell_type": "code",
   "execution_count": 13,
   "id": "b4a61c53",
   "metadata": {},
   "outputs": [
    {
     "data": {
      "text/plain": [
       "array([[0., 0.],\n",
       "       [0., 0.],\n",
       "       [0., 0.],\n",
       "       [0., 0.],\n",
       "       [0., 0.]])"
      ]
     },
     "execution_count": 13,
     "metadata": {},
     "output_type": "execute_result"
    }
   ],
   "source": [
    "# Create a two-dimensional array with 5 rows and 2 columns.\n",
    "# np.zeros((row, col))\n",
    "\n",
    "np.zeros((5, 2))"
   ]
  },
  {
   "cell_type": "code",
   "execution_count": 14,
   "id": "4f75f854",
   "metadata": {},
   "outputs": [
    {
     "data": {
      "text/plain": [
       "array([[1, 2, 3],\n",
       "       [4, 5, 6],\n",
       "       [7, 8, 9]])"
      ]
     },
     "execution_count": 14,
     "metadata": {},
     "output_type": "execute_result"
    }
   ],
   "source": [
    "# Create a 2D array from a python list.\n",
    "n = np.array([\n",
    "    [1, 2, 3],\n",
    "    [4, 5, 6],\n",
    "    [7, 8, 9]\n",
    "])\n",
    "n"
   ]
  },
  {
   "cell_type": "markdown",
   "id": "7cd5f80d-5d8a-4a37-944d-82f9483a319a",
   "metadata": {},
   "source": [
    "#### Indexing and Slicing Arrays\n",
    "\n",
    "Like Python lists, you can access elements in Numpy arrays using indexing and slicing. For two-dimensional arrays:"
   ]
  },
  {
   "cell_type": "code",
   "execution_count": 15,
   "id": "619860f6",
   "metadata": {},
   "outputs": [],
   "source": [
    "# Access a particular element in the 2D array and replace it with another value.\n",
    "# n[row_idx, col_idx] = new_value\n",
    "\n",
    "n[0, 1] = 20"
   ]
  },
  {
   "cell_type": "code",
   "execution_count": 16,
   "id": "54333fc7",
   "metadata": {},
   "outputs": [
    {
     "data": {
      "text/plain": [
       "array([[ 1, 20,  3],\n",
       "       [ 4,  5,  6],\n",
       "       [ 7,  8,  9]])"
      ]
     },
     "execution_count": 16,
     "metadata": {},
     "output_type": "execute_result"
    }
   ],
   "source": [
    "n"
   ]
  },
  {
   "cell_type": "code",
   "execution_count": 17,
   "id": "57eef634",
   "metadata": {},
   "outputs": [],
   "source": [
    "# Access the entire row in the 2D array and replace it with another row.\n",
    "# n[row_idx] = [col_0, col_1, col_2]\n",
    "\n",
    "n[2] = [1, 1, 1]"
   ]
  },
  {
   "cell_type": "code",
   "execution_count": 18,
   "id": "b3fa6ae7",
   "metadata": {},
   "outputs": [
    {
     "data": {
      "text/plain": [
       "array([[ 1, 20,  3],\n",
       "       [ 4,  5,  6],\n",
       "       [ 1,  1,  1]])"
      ]
     },
     "execution_count": 18,
     "metadata": {},
     "output_type": "execute_result"
    }
   ],
   "source": [
    "n"
   ]
  },
  {
   "cell_type": "code",
   "execution_count": 19,
   "id": "99502283-ef2f-4e57-9bf0-a0bad3ca9637",
   "metadata": {},
   "outputs": [
    {
     "data": {
      "text/plain": [
       "array([3, 6, 1])"
      ]
     },
     "execution_count": 19,
     "metadata": {},
     "output_type": "execute_result"
    }
   ],
   "source": [
    "# Retrieve a specific column of a 2D array.\n",
    "# The column (:) operator returns all the rows and we need \n",
    "# to pass it as an argument here because the row field can't be left empty. \n",
    "# n[:, col_idx]\n",
    "\n",
    "n[:, 2]"
   ]
  },
  {
   "cell_type": "code",
   "execution_count": 20,
   "id": "42f1d1f4",
   "metadata": {},
   "outputs": [],
   "source": [
    "# Access the third column of a 2D array and replace it with another column.\n",
    "n[:, 2] = [0, 1, 2]"
   ]
  },
  {
   "cell_type": "code",
   "execution_count": 21,
   "id": "13442277",
   "metadata": {},
   "outputs": [
    {
     "data": {
      "text/plain": [
       "array([[ 1, 20,  0],\n",
       "       [ 4,  5,  1],\n",
       "       [ 1,  1,  2]])"
      ]
     },
     "execution_count": 21,
     "metadata": {},
     "output_type": "execute_result"
    }
   ],
   "source": [
    "n"
   ]
  },
  {
   "cell_type": "markdown",
   "id": "62ba6337",
   "metadata": {},
   "source": [
    "## Randomly generated arrays\n",
    "\n",
    "Numpy can create arrays filled with random numbers. To ensure reproducibility, you can set a seed using `np.random.seed()`:"
   ]
  },
  {
   "cell_type": "code",
   "execution_count": 22,
   "id": "1f5bdb45-3ef4-42cd-bfa2-a732a1a6a1c0",
   "metadata": {},
   "outputs": [
    {
     "data": {
      "text/plain": [
       "array([[0.99208673, 0.24555124],\n",
       "       [0.81069173, 0.08591352],\n",
       "       [0.36629364, 0.03725779],\n",
       "       [0.99736131, 0.35428299],\n",
       "       [0.67444845, 0.82024659]])"
      ]
     },
     "execution_count": 22,
     "metadata": {},
     "output_type": "execute_result"
    }
   ],
   "source": [
    "# Using the random package in numpy\n",
    "# Generate a 2D array of size, 5 rows and 2 columns, with random values ranging from 0 to 1. \n",
    "# np.random.rand(row, col)\n",
    "\n",
    "np.random.rand(5, 2)"
   ]
  },
  {
   "cell_type": "code",
   "execution_count": 23,
   "id": "6781ff11",
   "metadata": {},
   "outputs": [
    {
     "data": {
      "text/plain": [
       "array([[43.59949021,  2.59262318],\n",
       "       [54.96624779, 43.53223926],\n",
       "       [42.03678021, 33.0334821 ],\n",
       "       [20.4648634 , 61.92709664],\n",
       "       [29.96546737, 26.68272751]])"
      ]
     },
     "execution_count": 23,
     "metadata": {},
     "output_type": "execute_result"
    }
   ],
   "source": [
    "# Set the seed of this random generator so that the sequence of random numbers\n",
    "# produced on my computer and on your computer will be the same. \n",
    "# The numbers are random but every time we execute this cell, the results are the \n",
    "# same because we fixed the random seed. \n",
    "\n",
    "np.random.seed(2)\n",
    "# Multiply by 100 to get numbers from 0 to 100 instead of 0 to 1. \n",
    "100 * np.random.rand(5, 2)"
   ]
  },
  {
   "cell_type": "markdown",
   "id": "873c3a1d-51fa-44d3-ae46-19c2bc2f142e",
   "metadata": {},
   "source": [
    "For random numbers from a normal distribution or integers within a range:"
   ]
  },
  {
   "cell_type": "code",
   "execution_count": 24,
   "id": "4374e58b",
   "metadata": {},
   "outputs": [
    {
     "data": {
      "text/plain": [
       "array([[ -41.67578474,   -5.62668272],\n",
       "       [-213.61960957,  164.02708084],\n",
       "       [-179.34355852,  -84.17473657],\n",
       "       [  50.28814172, -124.52880866],\n",
       "       [-105.79522189,  -90.90076149]])"
      ]
     },
     "execution_count": 24,
     "metadata": {},
     "output_type": "execute_result"
    }
   ],
   "source": [
    "# Draw numbers from the standard normal distribution using randn().\n",
    "# The distribution looks a bit different here with n.\n",
    "\n",
    "np.random.seed(2)\n",
    "# Multiply by 100 to get numbers from 0 to 100 instead of 0 to 1. \n",
    "100 * np.random.randn(5, 2)"
   ]
  },
  {
   "cell_type": "code",
   "execution_count": 25,
   "id": "ebb39565",
   "metadata": {},
   "outputs": [
    {
     "data": {
      "text/plain": [
       "array([[40, 15],\n",
       "       [72, 22],\n",
       "       [43, 82],\n",
       "       [75,  7],\n",
       "       [34, 49]], dtype=int32)"
      ]
     },
     "execution_count": 25,
     "metadata": {},
     "output_type": "execute_result"
    }
   ],
   "source": [
    "# Generate random integers using randint() by specifying the lowest number\n",
    "# and the highest number (exclusive) with its row and column size. \n",
    "# np.random.randint(low=min, high=max, size=(row, col))\n",
    "\n",
    "np.random.seed(2)\n",
    "# Generate a 2D array of size, 5 rows and 2 columns, with random integers \n",
    "# ranging from 0 to 99.\n",
    "np.random.randint(low=0, high=100, size=(5, 2))"
   ]
  },
  {
   "cell_type": "markdown",
   "id": "75acf8ef-1638-47fa-a385-f17c0432a552",
   "metadata": {},
   "source": [
    "## Array Operations\n",
    "\n",
    "Numpy excels in performing mathemathical operations on arrays efficiently. "
   ]
  },
  {
   "cell_type": "markdown",
   "id": "364c6d7c",
   "metadata": {},
   "source": [
    "### Element-wise Operations\n",
    "\n",
    "You can perform operations on entire arrays element by element: "
   ]
  },
  {
   "cell_type": "code",
   "execution_count": 26,
   "id": "51390a32",
   "metadata": {},
   "outputs": [
    {
     "data": {
      "text/plain": [
       "array([0, 1, 2, 3, 4])"
      ]
     },
     "execution_count": 26,
     "metadata": {},
     "output_type": "execute_result"
    }
   ],
   "source": [
    "# Create an array with values starting from 0 to 4.\n",
    "a = np.arange(5)\n",
    "a"
   ]
  },
  {
   "cell_type": "code",
   "execution_count": 27,
   "id": "05dc64b0-957d-4045-b8d9-c684b67ad440",
   "metadata": {},
   "outputs": [
    {
     "data": {
      "text/plain": [
       "array([1, 2, 3, 4, 5])"
      ]
     },
     "execution_count": 27,
     "metadata": {},
     "output_type": "execute_result"
    }
   ],
   "source": [
    "# Add 1 to every element in the array.\n",
    "# numpy makes arithmetic computation easier using its array.\n",
    "a + 1"
   ]
  },
  {
   "cell_type": "code",
   "execution_count": 28,
   "id": "f00fd6be-81ec-41be-86f4-9d49540ffbf8",
   "metadata": {},
   "outputs": [
    {
     "data": {
      "text/plain": [
       "array([0, 2, 4, 6, 8])"
      ]
     },
     "execution_count": 28,
     "metadata": {},
     "output_type": "execute_result"
    }
   ],
   "source": [
    "# Multiply every element in the array by 2.\n",
    "# numpy makes arithmetic computation easier using its array.\n",
    "a * 2"
   ]
  },
  {
   "cell_type": "code",
   "execution_count": 29,
   "id": "6e87e9b0",
   "metadata": {},
   "outputs": [],
   "source": [
    "# We can chain the arithmetic computations and save the result\n",
    "# in the array to a new numpy array. \n",
    "b = (10 + (a * 2)) ** 2 / 100"
   ]
  },
  {
   "cell_type": "code",
   "execution_count": 30,
   "id": "013a9e2a",
   "metadata": {},
   "outputs": [
    {
     "data": {
      "text/plain": [
       "array([1.  , 1.44, 1.96, 2.56, 3.24])"
      ]
     },
     "execution_count": 30,
     "metadata": {},
     "output_type": "execute_result"
    }
   ],
   "source": [
    "b"
   ]
  },
  {
   "cell_type": "markdown",
   "id": "579791b4-bb5d-4c9f-ad92-bf6f1441edfa",
   "metadata": {},
   "source": [
    "### Element-wise Operations with Two Arrays\n",
    "\n",
    "You can also perform operations between two arrays of the same shape:"
   ]
  },
  {
   "cell_type": "code",
   "execution_count": 31,
   "id": "ddf16fbb-e1e9-4ac2-b41d-5f498c6bdc3b",
   "metadata": {},
   "outputs": [
    {
     "data": {
      "text/plain": [
       "array([1.  , 2.44, 3.96, 5.56, 7.24])"
      ]
     },
     "execution_count": 31,
     "metadata": {},
     "output_type": "execute_result"
    }
   ],
   "source": [
    "# Combine the two arrays by summing up the values (element-wise operation).\n",
    "a + b"
   ]
  },
  {
   "cell_type": "code",
   "execution_count": 32,
   "id": "08592c4a",
   "metadata": {},
   "outputs": [
    {
     "data": {
      "text/plain": [
       "array([10.        , 10.69444444, 11.02040816, 11.171875  , 11.2345679 ])"
      ]
     },
     "execution_count": 32,
     "metadata": {},
     "output_type": "execute_result"
    }
   ],
   "source": [
    "# We can chain the operations.\n",
    "a / b + 10"
   ]
  },
  {
   "cell_type": "markdown",
   "id": "35fc84d3",
   "metadata": {},
   "source": [
    "### Comparison Operations\n",
    "\n",
    "You can perform element-wise comparisons and create boolean arrays:"
   ]
  },
  {
   "cell_type": "code",
   "execution_count": 33,
   "id": "e26eefdc",
   "metadata": {},
   "outputs": [
    {
     "data": {
      "text/plain": [
       "array([0, 1, 2, 3, 4])"
      ]
     },
     "execution_count": 33,
     "metadata": {},
     "output_type": "execute_result"
    }
   ],
   "source": [
    "a"
   ]
  },
  {
   "cell_type": "code",
   "execution_count": 34,
   "id": "8fd3fc96",
   "metadata": {},
   "outputs": [
    {
     "data": {
      "text/plain": [
       "array([False, False,  True,  True,  True])"
      ]
     },
     "execution_count": 34,
     "metadata": {},
     "output_type": "execute_result"
    }
   ],
   "source": [
    "# Check if elements in the array are higher or equal to 2. \n",
    "a >= 2"
   ]
  },
  {
   "cell_type": "code",
   "execution_count": 35,
   "id": "bca43c2c",
   "metadata": {},
   "outputs": [
    {
     "data": {
      "text/plain": [
       "array([1.  , 1.44, 1.96, 2.56, 3.24])"
      ]
     },
     "execution_count": 35,
     "metadata": {},
     "output_type": "execute_result"
    }
   ],
   "source": [
    "b"
   ]
  },
  {
   "cell_type": "code",
   "execution_count": 36,
   "id": "f6e89611",
   "metadata": {},
   "outputs": [
    {
     "data": {
      "text/plain": [
       "array([False, False,  True,  True,  True])"
      ]
     },
     "execution_count": 36,
     "metadata": {},
     "output_type": "execute_result"
    }
   ],
   "source": [
    "# Compare the elements of one array with the elements of another array to see \n",
    "# if elements in a are higher than elements in b.\n",
    "a > b"
   ]
  },
  {
   "cell_type": "markdown",
   "id": "8487b1f3-e7e0-465d-b2a8-0c524a7a8142",
   "metadata": {},
   "source": [
    "### Selecting Elements Based on Conditions\n",
    "\n",
    "You can create subarrays based on certain conditions:"
   ]
  },
  {
   "cell_type": "code",
   "execution_count": 37,
   "id": "15a5a80a",
   "metadata": {},
   "outputs": [
    {
     "data": {
      "text/plain": [
       "array([2, 3, 4])"
      ]
     },
     "execution_count": 37,
     "metadata": {},
     "output_type": "execute_result"
    }
   ],
   "source": [
    "# Returns all the elements of array a for which this condition is true.\n",
    "# Access the elements of a that are greater than b (to look at all the elements\n",
    "# that satisfy this condition).\n",
    "\n",
    "a[a > b]"
   ]
  },
  {
   "cell_type": "markdown",
   "id": "0259499b",
   "metadata": {},
   "source": [
    "### Summarizing Operations\n",
    "\n",
    "Numpy provides functions for summarizing array data:"
   ]
  },
  {
   "cell_type": "code",
   "execution_count": 38,
   "id": "c1b30281",
   "metadata": {},
   "outputs": [
    {
     "data": {
      "text/plain": [
       "array([0, 1, 2, 3, 4])"
      ]
     },
     "execution_count": 38,
     "metadata": {},
     "output_type": "execute_result"
    }
   ],
   "source": [
    "a"
   ]
  },
  {
   "cell_type": "code",
   "execution_count": 39,
   "id": "bdae06b9-e2b8-49fe-82f2-1f3b58edaa87",
   "metadata": {},
   "outputs": [
    {
     "data": {
      "text/plain": [
       "np.int64(0)"
      ]
     },
     "execution_count": 39,
     "metadata": {},
     "output_type": "execute_result"
    }
   ],
   "source": [
    "# Return a single number (summarizing operations) instead of \n",
    "# an array (element-wise operations and comparison operations)\n",
    "\n",
    "# Return the smallest number in the array.\n",
    "a.min()"
   ]
  },
  {
   "cell_type": "code",
   "execution_count": 40,
   "id": "e6637f52-dc6c-4b38-a549-fffd81607657",
   "metadata": {},
   "outputs": [
    {
     "data": {
      "text/plain": [
       "np.int64(4)"
      ]
     },
     "execution_count": 40,
     "metadata": {},
     "output_type": "execute_result"
    }
   ],
   "source": [
    "# Return the largest number in the array.\n",
    "a.max()"
   ]
  },
  {
   "cell_type": "code",
   "execution_count": 41,
   "id": "75813ded-e1ba-4347-8839-d09080364bb2",
   "metadata": {},
   "outputs": [
    {
     "data": {
      "text/plain": [
       "np.int64(10)"
      ]
     },
     "execution_count": 41,
     "metadata": {},
     "output_type": "execute_result"
    }
   ],
   "source": [
    "# Compute and return the sum of all elements in the array.\n",
    "a.sum()"
   ]
  },
  {
   "cell_type": "code",
   "execution_count": 42,
   "id": "5ecd44fd-a7e1-4330-af3a-b42385750855",
   "metadata": {},
   "outputs": [
    {
     "data": {
      "text/plain": [
       "np.float64(2.0)"
      ]
     },
     "execution_count": 42,
     "metadata": {},
     "output_type": "execute_result"
    }
   ],
   "source": [
    "# Compute the average/mean of all elements in the array.\n",
    "a.mean()"
   ]
  },
  {
   "cell_type": "code",
   "execution_count": 43,
   "id": "d850c2aa",
   "metadata": {},
   "outputs": [
    {
     "data": {
      "text/plain": [
       "np.float64(1.4142135623730951)"
      ]
     },
     "execution_count": 43,
     "metadata": {},
     "output_type": "execute_result"
    }
   ],
   "source": [
    "# Return the standard deviation of all elements in the array.\n",
    "a.std()"
   ]
  },
  {
   "cell_type": "code",
   "execution_count": 44,
   "id": "2b2587f2",
   "metadata": {},
   "outputs": [
    {
     "data": {
      "text/plain": [
       "array([[ 1, 20,  0],\n",
       "       [ 4,  5,  1],\n",
       "       [ 1,  1,  2]])"
      ]
     },
     "execution_count": 44,
     "metadata": {},
     "output_type": "execute_result"
    }
   ],
   "source": [
    "# The summarizing operations also work on 2D Array. \n",
    "n"
   ]
  },
  {
   "cell_type": "code",
   "execution_count": 45,
   "id": "46b69910-c029-4d0d-af4e-ef6179619de6",
   "metadata": {},
   "outputs": [
    {
     "data": {
      "text/plain": [
       "np.int64(0)"
      ]
     },
     "execution_count": 45,
     "metadata": {},
     "output_type": "execute_result"
    }
   ],
   "source": [
    "n.min()"
   ]
  },
  {
   "cell_type": "code",
   "execution_count": 46,
   "id": "ccbf4089-e29c-498d-99b0-32fa82ee7967",
   "metadata": {},
   "outputs": [
    {
     "data": {
      "text/plain": [
       "np.int64(20)"
      ]
     },
     "execution_count": 46,
     "metadata": {},
     "output_type": "execute_result"
    }
   ],
   "source": [
    "n.max()"
   ]
  },
  {
   "cell_type": "code",
   "execution_count": 47,
   "id": "cf0aa431-fe02-4703-99f4-8c385ed27cd6",
   "metadata": {},
   "outputs": [
    {
     "data": {
      "text/plain": [
       "np.int64(35)"
      ]
     },
     "execution_count": 47,
     "metadata": {},
     "output_type": "execute_result"
    }
   ],
   "source": [
    "n.sum()"
   ]
  },
  {
   "cell_type": "markdown",
   "id": "c89c8d7d-2299-4f5e-92de-d8070db8efdc",
   "metadata": {},
   "source": [
    "## Conclusion\n",
    "\n",
    "Overall, Numpy is an essential library for any data scientist or programmer working with numerical data in Python. Its efficient array operations and wide range of mathematical functions make it a powerful tool for scientific computing and data analysis. \n",
    "\n",
    "With the basics covered in this article, you're well on your way to harnessing Numpy's capabilities. \n",
    "\n",
    "### Further Readings\n",
    "- [Introduction to NumPy](https://mlbookcamp.com/article/numpy)\n",
    "- [Machine Learning Bookcamp Numpy Notebook](https://github.com/alexeygrigorev/mlbookcamp-code/blob/master/appendix-c-numpy.ipynb)\n",
    "- [Numpy Cheatsheet](https://www.datacamp.com/community/blog/python-numpy-cheat-sheet)"
   ]
  },
  {
   "cell_type": "markdown",
   "id": "0662686b",
   "metadata": {},
   "source": [
    "### Next\n",
    "\n",
    "Linear algebra refresher"
   ]
  }
 ],
 "metadata": {
  "kernelspec": {
   "display_name": "Python 3 (ipykernel)",
   "language": "python",
   "name": "python3"
  },
  "language_info": {
   "codemirror_mode": {
    "name": "ipython",
    "version": 3
   },
   "file_extension": ".py",
   "mimetype": "text/x-python",
   "name": "python",
   "nbconvert_exporter": "python",
   "pygments_lexer": "ipython3",
   "version": "3.11.3"
  }
 },
 "nbformat": 4,
 "nbformat_minor": 5
}
